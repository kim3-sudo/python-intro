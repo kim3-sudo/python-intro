{
  "nbformat": 4,
  "nbformat_minor": 0,
  "metadata": {
    "kernelspec": {
      "display_name": "Python 3",
      "language": "python",
      "name": "python3"
    },
    "language_info": {
      "codemirror_mode": {
        "name": "ipython",
        "version": 3
      },
      "file_extension": ".py",
      "mimetype": "text/x-python",
      "name": "python",
      "nbconvert_exporter": "python",
      "pygments_lexer": "ipython3",
      "version": "3.8.3"
    },
    "colab": {
      "name": "Python 3 Exercises 8.1 Functions.ipynb",
      "provenance": [],
      "collapsed_sections": [
        "P-eCR028XZhs",
        "DcUFOQ2RXCNH"
      ]
    }
  },
  "cells": [
    {
      "cell_type": "markdown",
      "metadata": {
        "id": "kq4uWZ_UXCL1"
      },
      "source": [
        "# Python 3 Exercises - 8.1 Functions"
      ]
    },
    {
      "cell_type": "markdown",
      "metadata": {
        "id": "_ytFPQ__XCL2"
      },
      "source": [
        "Run the below lines of code to prepare your coding environment by loading in some of the essential packages that you'll need below and to declare some of the variables that you'll refer to in the later exercises. If you know what this code does, great. If you don't, don't worry about it."
      ]
    },
    {
      "cell_type": "markdown",
      "metadata": {
        "id": "P-eCR028XZhs"
      },
      "source": [
        "# PREPARE CODING ENVIRONMENT\n",
        "\n"
      ]
    },
    {
      "cell_type": "code",
      "metadata": {
        "id": "BsKW6ab6XCL3"
      },
      "source": [
        "import warnings\n",
        "try:\n",
        "    import random\n",
        "    import json\n",
        "    print('Success loading modules.')\n",
        "except Exception as e:\n",
        "    warnings.warn('Error loading modules.')\n",
        "    warnings.warn(e)\n",
        "def randLang():\n",
        "    langarray = ['English','Spanish','Japanese','German','Arabic','French']\n",
        "    return random.choice(langarray)\n",
        "try:\n",
        "    numstu = 100\n",
        "    stuarray = [[]]\n",
        "    for i in range(99):\n",
        "        sa_nested_list1 = stuarray[0]\n",
        "        sa_nested_list1.append(random.randrange(210000, 219000, 2))\n",
        "    randlang = []\n",
        "    for i in range(100):\n",
        "        randlang.append(randLang())\n",
        "    stuarray.append(randlang)\n",
        "    print('Success creating sample student data')\n",
        "except Exception as e:\n",
        "    warnings.warn('Error creating sample student data.')\n",
        "    warnings.warn(e)\n",
        "try:\n",
        "    soccer = [{\"id\":1,\"name\":\"Cristiano Ronaldo\",\"nationality\":\"Portugal\",\"nat_pos\":\"LS\",\"nat_kit\":\"7\",\"club\":\"Real Madrid\"},\n",
        "{\"id\":2,\"name\":\"Lionel Messi\",\"nationality\":\"Argentina\",\"nat_pos\":\"RW\",\"nat_kit\":\"10\",\"club\":\"FC Barcelona\"},\n",
        "{\"id\":3,\"name\":\"Neymar\",\"nationality\":\"Brazil\",\"nat_pos\":\"LW\",\"nat_kit\":\"10\",\"club\":\"FC Barcelona\"},\n",
        "{\"id\":4,\"name\":\"Luis Suárez\",\"nationality\":\"Uruguay\",\"nat_pos\":\"LS\",\"nat_kit\":\"9\",\"club\":\"FC Barcelona\"},\n",
        "{\"id\":5,\"name\":\"Manuel Neuer\",\"nationality\":\"Germany\",\"nat_pos\":\"GK\",\"nat_kit\":\"1\",\"club\":\"FC Bayern\"},\n",
        "{\"id\":6,\"name\":\"De Gea\",\"nationality\":\"Spain\",\"nat_pos\":\"GK\",\"nat_kit\":\"1\",\"club\":\"Manchester Utd\"},\n",
        "{\"id\":7,\"name\":\"Robert Lewandowski\",\"nationality\":\"Poland\",\"nat_pos\":\"LS\",\"nat_kit\":\"9\",\"club\":\"FC Bayern\"},\n",
        "{\"id\":8,\"name\":\"Gareth Bale\",\"nationality\":\"Wales\",\"nat_pos\":\"RS\",\"nat_kit\":\"11\",\"club\":\"Real Madrid\"},\n",
        "{\"id\":9,\"name\":\"Zlatan Ibrahimovic\",\"nationality\":\"Sweden\",\"nat_pos\":\"NULL\",\"nat_kit\":\"NULL\",\"club\":\"Manchester Utd\"},\n",
        "{\"id\":10,\"name\":\"Thibaut Courtois\",\"nationality\":\"Belgium\",\"nat_pos\":\"GK\",\"nat_kit\":\"1\",\"club\":\"Chelsea\"},\n",
        "{\"id\":11,\"name\":\"Jérôme Boateng\",\"nationality\":\"Germany\",\"nat_pos\":\"RCB\",\"nat_kit\":\"17\",\"club\":\"FC Bayern\"},\n",
        "{\"id\":12,\"name\":\"Eden Hazard\",\"nationality\":\"Belgium\",\"nat_pos\":\"LF\",\"nat_kit\":\"10\",\"club\":\"Chelsea\"},\n",
        "{\"id\":13,\"name\":\"Luka Modric\",\"nationality\":\"Croatia\",\"nat_pos\":\"NULL\",\"nat_kit\":\"NULL\",\"club\":\"Real Madrid\"},\n",
        "{\"id\":14,\"name\":\"Mesut Özil\",\"nationality\":\"Germany\",\"nat_pos\":\"CAM\",\"nat_kit\":\"10\",\"club\":\"Arsenal\"},\n",
        "{\"id\":15,\"name\":\"Gonzalo Higuaín\",\"nationality\":\"Argentina\",\"nat_pos\":\"Sub\",\"nat_kit\":\"9\",\"club\":\"Juventus\"},\n",
        "{\"id\":16,\"name\":\"Thiago Silva\",\"nationality\":\"Brazil\",\"nat_pos\":\"Sub\",\"nat_kit\":\"14\",\"club\":\"PSG\"},\n",
        "{\"id\":17,\"name\":\"Sergio Ramos\",\"nationality\":\"Spain\",\"nat_pos\":\"LCB\",\"nat_kit\":\"15\",\"club\":\"Real Madrid\"},\n",
        "{\"id\":18,\"name\":\"Sergio Agüero\",\"nationality\":\"Argentina\",\"nat_pos\":\"Sub\",\"nat_kit\":\"7\",\"club\":\"Manchester City\"},\n",
        "{\"id\":19,\"name\":\"Paul Pogba\",\"nationality\":\"France\",\"nat_pos\":\"NULL\",\"nat_kit\":\"NULL\",\"club\":\"Manchester Utd\"},\n",
        "{\"id\":20,\"name\":\"Antoine Griezmann\",\"nationality\":\"France\",\"nat_pos\":\"CAM\",\"nat_kit\":\"7\",\"club\":\"Atlético Madrid\"},\n",
        "{\"id\":21,\"name\":\"Kevin De Bruyne\",\"nationality\":\"Belgium\",\"nat_pos\":\"RCM\",\"nat_kit\":\"7\",\"club\":\"Manchester City\"},\n",
        "{\"id\":22,\"name\":\"Marco Reus\",\"nationality\":\"Germany\",\"nat_pos\":\"NULL\",\"nat_kit\":\"NULL\",\"club\":\"Bor. Dortmund\"},\n",
        "{\"id\":23,\"name\":\"Alexis Sánchez\",\"nationality\":\"Chile\",\"nat_pos\":\"LW\",\"nat_kit\":\"7\",\"club\":\"Arsenal\"},\n",
        "{\"id\":24,\"name\":\"Toni Kroos\",\"nationality\":\"Germany\",\"nat_pos\":\"LDM\",\"nat_kit\":\"8\",\"club\":\"Real Madrid\"},\n",
        "{\"id\":25,\"name\":\"Diego Godín\",\"nationality\":\"Uruguay\",\"nat_pos\":\"LCB\",\"nat_kit\":\"3\",\"club\":\"Atlético Madrid\"},\n",
        "{\"id\":26,\"name\":\"Mats Hummels\",\"nationality\":\"Germany\",\"nat_pos\":\"LCB\",\"nat_kit\":\"5\",\"club\":\"FC Bayern\"},\n",
        "{\"id\":27,\"name\":\"Hugo Lloris\",\"nationality\":\"France\",\"nat_pos\":\"GK\",\"nat_kit\":\"1\",\"club\":\"Spurs\"},\n",
        "{\"id\":28,\"name\":\"Giorgio Chiellini\",\"nationality\":\"Italy\",\"nat_pos\":\"LCB\",\"nat_kit\":\"3\",\"club\":\"Juventus\"},\n",
        "{\"id\":29,\"name\":\"Philipp Lahm\",\"nationality\":\"Germany\",\"nat_pos\":\"NULL\",\"nat_kit\":\"NULL\",\"club\":\"FC Bayern\"},\n",
        "{\"id\":30,\"name\":\"Pepe\",\"nationality\":\"Portugal\",\"nat_pos\":\"RCB\",\"nat_kit\":\"3\",\"club\":\"Real Madrid\"},\n",
        "{\"id\":31,\"name\":\"Petr Cech\",\"nationality\":\"Czech Republic\",\"nat_pos\":\"NULL\",\"nat_kit\":\"NULL\",\"club\":\"Arsenal\"},\n",
        "{\"id\":32,\"name\":\"Gianluigi Buffon\",\"nationality\":\"Italy\",\"nat_pos\":\"GK\",\"nat_kit\":\"1\",\"club\":\"Juventus\"},\n",
        "{\"id\":33,\"name\":\"Iniesta\",\"nationality\":\"Spain\",\"nat_pos\":\"LCM\",\"nat_kit\":\"6\",\"club\":\"FC Barcelona\"},\n",
        "{\"id\":34,\"name\":\"Jan Oblak\",\"nationality\":\"Slovenia\",\"nat_pos\":\"GK\",\"nat_kit\":\"1\",\"club\":\"Atlético Madrid\"},\n",
        "{\"id\":35,\"name\":\"James Rodríguez\",\"nationality\":\"Colombia\",\"nat_pos\":\"LAM\",\"nat_kit\":\"10\",\"club\":\"Real Madrid\"},\n",
        "{\"id\":36,\"name\":\"Pierre-Emerick Aubameyang\",\"nationality\":\"Gabon\",\"nat_pos\":\"NULL\",\"nat_kit\":\"NULL\",\"club\":\"Bor. Dortmund\"},\n",
        "{\"id\":37,\"name\":\"Leonardo Bonucci\",\"nationality\":\"Italy\",\"nat_pos\":\"CB\",\"nat_kit\":\"19\",\"club\":\"Juventus\"},\n",
        "{\"id\":38,\"name\":\"Arturo Vidal\",\"nationality\":\"Chile\",\"nat_pos\":\"CDM\",\"nat_kit\":\"8\",\"club\":\"FC Bayern\"},\n",
        "{\"id\":39,\"name\":\"Ivan Rakitic\",\"nationality\":\"Croatia\",\"nat_pos\":\"NULL\",\"nat_kit\":\"NULL\",\"club\":\"FC Barcelona\"},\n",
        "{\"id\":40,\"name\":\"David Silva\",\"nationality\":\"Spain\",\"nat_pos\":\"LM\",\"nat_kit\":\"21\",\"club\":\"Manchester City\"},\n",
        "{\"id\":41,\"name\":\"Samir Handanovic\",\"nationality\":\"Slovenia\",\"nat_pos\":\"NULL\",\"nat_kit\":\"NULL\",\"club\":\"Inter\"},\n",
        "{\"id\":42,\"name\":\"Piqué\",\"nationality\":\"Spain\",\"nat_pos\":\"RCB\",\"nat_kit\":\"3\",\"club\":\"FC Barcelona\"},\n",
        "{\"id\":43,\"name\":\"Arjen Robben\",\"nationality\":\"Netherlands\",\"nat_pos\":\"RW\",\"nat_kit\":\"11\",\"club\":\"FC Bayern\"},\n",
        "{\"id\":44,\"name\":\"Paulo Dybala\",\"nationality\":\"Argentina\",\"nat_pos\":\"Sub\",\"nat_kit\":\"21\",\"club\":\"Juventus\"},\n",
        "{\"id\":45,\"name\":\"Marco Verratti\",\"nationality\":\"Italy\",\"nat_pos\":\"LCM\",\"nat_kit\":\"10\",\"club\":\"PSG\"},\n",
        "{\"id\":46,\"name\":\"David Alaba\",\"nationality\":\"Austria\",\"nat_pos\":\"LM\",\"nat_kit\":\"8\",\"club\":\"FC Bayern\"},\n",
        "{\"id\":47,\"name\":\"Henrikh Mkhitaryan\",\"nationality\":\"Armenia\",\"nat_pos\":\"NULL\",\"nat_kit\":\"NULL\",\"club\":\"Manchester Utd\"},\n",
        "{\"id\":48,\"name\":\"Bernd Leno\",\"nationality\":\"Germany\",\"nat_pos\":\"Sub\",\"nat_kit\":\"12\",\"club\":\"Bayer 04\"},\n",
        "{\"id\":49,\"name\":\"Thomas Müller\",\"nationality\":\"Germany\",\"nat_pos\":\"RM\",\"nat_kit\":\"13\",\"club\":\"FC Bayern\"},\n",
        "{\"id\":50,\"name\":\"Sergio Busquets\",\"nationality\":\"Spain\",\"nat_pos\":\"CDM\",\"nat_kit\":\"5\",\"club\":\"FC Barcelona\"},\n",
        "{\"id\":51,\"name\":\"Thiago\",\"nationality\":\"Spain\",\"nat_pos\":\"Sub\",\"nat_kit\":\"10\",\"club\":\"FC Bayern\"},\n",
        "{\"id\":52,\"name\":\"Jordi Alba\",\"nationality\":\"Spain\",\"nat_pos\":\"LB\",\"nat_kit\":\"18\",\"club\":\"FC Barcelona\"},\n",
        "{\"id\":53,\"name\":\"Coutinho\",\"nationality\":\"Brazil\",\"nat_pos\":\"RW\",\"nat_kit\":\"11\",\"club\":\"Liverpool\"},\n",
        "{\"id\":54,\"name\":\"Ángel Di María\",\"nationality\":\"Argentina\",\"nat_pos\":\"LW\",\"nat_kit\":\"11\",\"club\":\"PSG\"},\n",
        "{\"id\":55,\"name\":\"Diego Costa\",\"nationality\":\"Spain\",\"nat_pos\":\"ST\",\"nat_kit\":\"19\",\"club\":\"Chelsea\"},\n",
        "{\"id\":56,\"name\":\"Edinson Cavani\",\"nationality\":\"Uruguay\",\"nat_pos\":\"RS\",\"nat_kit\":\"21\",\"club\":\"PSG\"},\n",
        "{\"id\":57,\"name\":\"Radja Nainggolan\",\"nationality\":\"Belgium\",\"nat_pos\":\"Sub\",\"nat_kit\":\"16\",\"club\":\"Roma\"},\n",
        "{\"id\":58,\"name\":\"Marcelo\",\"nationality\":\"Brazil\",\"nat_pos\":\"LB\",\"nat_kit\":\"16\",\"club\":\"Real Madrid\"},\n",
        "{\"id\":59,\"name\":\"Claudio Marchisio\",\"nationality\":\"Italy\",\"nat_pos\":\"NULL\",\"nat_kit\":\"NULL\",\"club\":\"Juventus\"},\n",
        "{\"id\":60,\"name\":\"Miranda\",\"nationality\":\"Brazil\",\"nat_pos\":\"RCB\",\"nat_kit\":\"3\",\"club\":\"Inter\"},\n",
        "{\"id\":61,\"name\":\"Karim Benzema\",\"nationality\":\"France\",\"nat_pos\":\"NULL\",\"nat_kit\":\"NULL\",\"club\":\"Real Madrid\"},\n",
        "{\"id\":62,\"name\":\"Cesc Fàbregas\",\"nationality\":\"Spain\",\"nat_pos\":\"NULL\",\"nat_kit\":\"NULL\",\"club\":\"Chelsea\"},\n",
        "{\"id\":63,\"name\":\"Franck Ribéry\",\"nationality\":\"France\",\"nat_pos\":\"NULL\",\"nat_kit\":\"NULL\",\"club\":\"FC Bayern\"},\n",
        "{\"id\":64,\"name\":\"Santi Cazorla\",\"nationality\":\"Spain\",\"nat_pos\":\"NULL\",\"nat_kit\":\"NULL\",\"club\":\"Arsenal\"},\n",
        "{\"id\":65,\"name\":\"Andrea Barzagli\",\"nationality\":\"Italy\",\"nat_pos\":\"RCB\",\"nat_kit\":\"15\",\"club\":\"Juventus\"},\n",
        "{\"id\":66,\"name\":\"Harry Kane\",\"nationality\":\"England\",\"nat_pos\":\"ST\",\"nat_kit\":\"9\",\"club\":\"Spurs\"},\n",
        "{\"id\":67,\"name\":\"Alexandre Lacazette\",\"nationality\":\"France\",\"nat_pos\":\"NULL\",\"nat_kit\":\"NULL\",\"club\":\"Olym. Lyonnais\"},\n",
        "{\"id\":68,\"name\":\"Keylor Navas\",\"nationality\":\"Costa Rica\",\"nat_pos\":\"NULL\",\"nat_kit\":\"NULL\",\"club\":\"Real Madrid\"},\n",
        "{\"id\":69,\"name\":\"Romelu Lukaku\",\"nationality\":\"Belgium\",\"nat_pos\":\"ST\",\"nat_kit\":\"9\",\"club\":\"Everton\"},\n",
        "{\"id\":70,\"name\":\"Christian Eriksen\",\"nationality\":\"Denmark\",\"nat_pos\":\"CM\",\"nat_kit\":\"10\",\"club\":\"Spurs\"},\n",
        "{\"id\":71,\"name\":\"Ilkay Gündogan\",\"nationality\":\"Germany\",\"nat_pos\":\"NULL\",\"nat_kit\":\"NULL\",\"club\":\"Manchester City\"},\n",
        "{\"id\":72,\"name\":\"Toby Alderweireld\",\"nationality\":\"Belgium\",\"nat_pos\":\"RCB\",\"nat_kit\":\"2\",\"club\":\"Spurs\"},\n",
        "{\"id\":73,\"name\":\"Willian\",\"nationality\":\"Brazil\",\"nat_pos\":\"Sub\",\"nat_kit\":\"19\",\"club\":\"Chelsea\"},\n",
        "{\"id\":74,\"name\":\"Miralem Pjanic\",\"nationality\":\"Bosnia Herzegovina\",\"nat_pos\":\"NULL\",\"nat_kit\":\"NULL\",\"club\":\"Juventus\"},\n",
        "{\"id\":75,\"name\":\"Juan Mata\",\"nationality\":\"Spain\",\"nat_pos\":\"NULL\",\"nat_kit\":\"NULL\",\"club\":\"Manchester Utd\"},\n",
        "{\"id\":76,\"name\":\"Javi Martinez\",\"nationality\":\"Spain\",\"nat_pos\":\"Sub\",\"nat_kit\":\"4\",\"club\":\"FC Bayern\"},\n",
        "{\"id\":77,\"name\":\"Dimitri Payet\",\"nationality\":\"France\",\"nat_pos\":\"LM\",\"nat_kit\":\"8\",\"club\":\"Olym. Marseille\"},\n",
        "{\"id\":78,\"name\":\"Dries Mertens\",\"nationality\":\"Belgium\",\"nat_pos\":\"RF\",\"nat_kit\":\"14\",\"club\":\"Napoli\"},\n",
        "{\"id\":79,\"name\":\"Sokratis\",\"nationality\":\"Greece\",\"nat_pos\":\"RCB\",\"nat_kit\":\"19\",\"club\":\"Bor. Dortmund\"},\n",
        "{\"id\":80,\"name\":\"Marek Hamšik\",\"nationality\":\"Slovakia\",\"nat_pos\":\"NULL\",\"nat_kit\":\"NULL\",\"club\":\"Napoli\"},\n",
        "{\"id\":81,\"name\":\"Blaise Matuidi\",\"nationality\":\"France\",\"nat_pos\":\"LDM\",\"nat_kit\":\"14\",\"club\":\"PSG\"},\n",
        "{\"id\":82,\"name\":\"Stéphane Ruffier\",\"nationality\":\"France\",\"nat_pos\":\"NULL\",\"nat_kit\":\"NULL\",\"club\":\"AS Saint-Étienne\"},\n",
        "{\"id\":83,\"name\":\"Laurent Koscielny\",\"nationality\":\"France\",\"nat_pos\":\"RCB\",\"nat_kit\":\"21\",\"club\":\"Arsenal\"},\n",
        "{\"id\":84,\"name\":\"Filipe Luís\",\"nationality\":\"Brazil\",\"nat_pos\":\"Sub\",\"nat_kit\":\"6\",\"club\":\"Atlético Madrid\"},\n",
        "{\"id\":85,\"name\":\"Vincent Kompany\",\"nationality\":\"Belgium\",\"nat_pos\":\"CB\",\"nat_kit\":\"3\",\"club\":\"Manchester City\"},\n",
        "{\"id\":86,\"name\":\"Aymeric Laporte\",\"nationality\":\"France\",\"nat_pos\":\"NULL\",\"nat_kit\":\"NULL\",\"club\":\"Athletic Bilbao\"},\n",
        "{\"id\":87,\"name\":\"Yannick Carrasco\",\"nationality\":\"Belgium\",\"nat_pos\":\"LM\",\"nat_kit\":\"18\",\"club\":\"Atlético Madrid\"},\n",
        "{\"id\":88,\"name\":\"Carvajal\",\"nationality\":\"Spain\",\"nat_pos\":\"RB\",\"nat_kit\":\"12\",\"club\":\"Real Madrid\"},\n",
        "{\"id\":89,\"name\":\"Riyad Mahrez\",\"nationality\":\"Algeria\",\"nat_pos\":\"NULL\",\"nat_kit\":\"NULL\",\"club\":\"Leicester City\"},\n",
        "{\"id\":90,\"name\":\"Raphaël Varane\",\"nationality\":\"France\",\"nat_pos\":\"NULL\",\"nat_kit\":\"NULL\",\"club\":\"Real Madrid\"},\n",
        "{\"id\":91,\"name\":\"Mauro Icardi\",\"nationality\":\"Argentina\",\"nat_pos\":\"NULL\",\"nat_kit\":\"NULL\",\"club\":\"Inter\"},\n",
        "{\"id\":92,\"name\":\"Lorenzo Insigne\",\"nationality\":\"Italy\",\"nat_pos\":\"Sub\",\"nat_kit\":\"20\",\"club\":\"Napoli\"},\n",
        "{\"id\":93,\"name\":\"Isco\",\"nationality\":\"Spain\",\"nat_pos\":\"Sub\",\"nat_kit\":\"22\",\"club\":\"Real Madrid\"},\n",
        "{\"id\":94,\"name\":\"Koke\",\"nationality\":\"Spain\",\"nat_pos\":\"RCM\",\"nat_kit\":\"8\",\"club\":\"Atlético Madrid\"},\n",
        "{\"id\":95,\"name\":\"Kostas Manolas\",\"nationality\":\"Greece\",\"nat_pos\":\"LCB\",\"nat_kit\":\"4\",\"club\":\"Roma\"},\n",
        "{\"id\":96,\"name\":\"Danijel Subašic\",\"nationality\":\"Croatia\",\"nat_pos\":\"NULL\",\"nat_kit\":\"NULL\",\"club\":\"AS Monaco\"},\n",
        "{\"id\":97,\"name\":\"Nicolás Otamendi\",\"nationality\":\"Argentina\",\"nat_pos\":\"RCB\",\"nat_kit\":\"17\",\"club\":\"Manchester City\"},\n",
        "{\"id\":98,\"name\":\"Shkodran Mustafi\",\"nationality\":\"Germany\",\"nat_pos\":\"Sub\",\"nat_kit\":\"2\",\"club\":\"Arsenal\"},\n",
        "{\"id\":99,\"name\":\"Nemanja Matic\",\"nationality\":\"Serbia\",\"nat_pos\":\"NULL\",\"nat_kit\":\"NULL\",\"club\":\"Chelsea\"},\n",
        "{\"id\":100,\"name\":\"Alex Sandro\",\"nationality\":\"Brazil\",\"nat_pos\":\"NULL\",\"nat_kit\":\"NULL\",\"club\":\"Juventus\"}];\n",
        "    print('Success reading soccer data.')\n",
        "except Exception as e:\n",
        "    warning.warn('Error reading soccer data.')\n",
        "    warning.warn(e)"
      ],
      "execution_count": null,
      "outputs": []
    },
    {
      "cell_type": "markdown",
      "metadata": {
        "id": "oWe4mHM4XCL8"
      },
      "source": [
        "*Note: If you care that much about the data provided, you can fix it and make a PR to merge new fixes in. I know the data's old and kit numbers (among other information) is now incorrect, and frankly, IDGAS to fix it now.*"
      ]
    },
    {
      "cell_type": "markdown",
      "metadata": {
        "id": "3kp6tFLzXlAA"
      },
      "source": [
        "# EXERCISES"
      ]
    },
    {
      "cell_type": "markdown",
      "metadata": {
        "id": "1P2hRzwuXCL8"
      },
      "source": [
        "## Exercise 1 - Void Functions"
      ]
    },
    {
      "cell_type": "markdown",
      "metadata": {
        "id": "uudaE2PaXCL9"
      },
      "source": [
        "### Assumptions\n",
        "\n",
        "No assumptions needed. You need not use any external data for this part."
      ]
    },
    {
      "cell_type": "markdown",
      "metadata": {
        "id": "kOy3KNTEXCL-"
      },
      "source": [
        "### Tasks\n",
        "\n",
        "#### Task 1\n",
        "\n",
        "In the programming window below, write a series of `print()` statements that would print a text-art cow, provided here for you to copy:\n",
        "\n",
        "```\n",
        "          (__)\n",
        "          (oo)\n",
        "   /-------\\/\n",
        "  / |     ||\n",
        " *  ||----||\n",
        "    ^^    ^^\n",
        "```\n",
        "\n",
        "*Hint: Watch out for backslashes - you need to escape backslashes by adding another backslash to print just one. Why? Think about what `\\n` does.*"
      ]
    },
    {
      "cell_type": "code",
      "metadata": {
        "id": "UiHlfdvUXCL-"
      },
      "source": [
        ""
      ],
      "execution_count": null,
      "outputs": []
    },
    {
      "cell_type": "markdown",
      "metadata": {
        "id": "3rtAsFHxXCMB"
      },
      "source": [
        "#### Task 2\n",
        "\n",
        "Now, write a function called `cow()` that takes no arguments and returns nothing. Instead, your function will print a cow every time it's called."
      ]
    },
    {
      "cell_type": "code",
      "metadata": {
        "id": "XiXREv0zXCMB"
      },
      "source": [
        ""
      ],
      "execution_count": null,
      "outputs": []
    },
    {
      "cell_type": "markdown",
      "metadata": {
        "id": "LD0DGCnWXCMF"
      },
      "source": [
        "#### Task 3\n",
        "\n",
        "Now, call your function four times. You need not put the output of your function into any variable, since the function doesn't return anything."
      ]
    },
    {
      "cell_type": "code",
      "metadata": {
        "id": "HP8lCGOrXCMG"
      },
      "source": [
        ""
      ],
      "execution_count": null,
      "outputs": []
    },
    {
      "cell_type": "markdown",
      "metadata": {
        "id": "G4Ow2ZG6XCMI"
      },
      "source": [
        "## Exercise 2 - Returning Functions 1"
      ]
    },
    {
      "cell_type": "markdown",
      "metadata": {
        "id": "F2DXyTOqXCMJ"
      },
      "source": [
        "### Assumptions\n",
        "\n",
        "Assume that `stuarray` already exists, which is a two-dimensional array with the attributes `id` at index 0 and `language` at index 1. This array is filled with randomized data for both `id` and `language`."
      ]
    },
    {
      "cell_type": "markdown",
      "metadata": {
        "id": "TJ31dUQ0XCMK"
      },
      "source": [
        "### What the data looks like\n",
        "\n",
        "`stuarray` looks like the following:\n",
        "\n",
        "| id     | language |\n",
        "|--------|----------|\n",
        "| 218163 | English  |\n",
        "| 216335 | French   |\n",
        "| 214375 | German   |\n",
        "| ...    | ...      |"
      ]
    },
    {
      "cell_type": "markdown",
      "metadata": {
        "id": "uYF_KiYNXCMK"
      },
      "source": [
        "### Tasks\n",
        "\n",
        "#### Task 1\n",
        "\n",
        "In the programming window below, print the entire `stuarray` array, print an extra newline at the end of the array, then print the value of just the student ID and the language that's in the 14th slot from `stuarray`. Remember, `stuarray` already exists.\n",
        "\n",
        "*Hint: Look at what the indices are in the assumptions above.*"
      ]
    },
    {
      "cell_type": "code",
      "metadata": {
        "id": "RJdHrhA1XCML"
      },
      "source": [
        ""
      ],
      "execution_count": null,
      "outputs": []
    },
    {
      "cell_type": "markdown",
      "metadata": {
        "id": "n8Raf9F5XCMR"
      },
      "source": [
        "#### Task 2\n",
        "\n",
        "Now, write a function called `getLang()` that takes in one argument, `id`, and returns the `language` as a string. You should be able to do this in two lines, though you can use more if needed."
      ]
    },
    {
      "cell_type": "code",
      "metadata": {
        "id": "oPIePArVXCMR"
      },
      "source": [
        ""
      ],
      "execution_count": null,
      "outputs": []
    },
    {
      "cell_type": "markdown",
      "metadata": {
        "id": "bnG3Gj-fXCMU"
      },
      "source": [
        "#### Task 3\n",
        "\n",
        "Now, pass three integers from 1 to 99 of your choice into your function. Print the output of your function."
      ]
    },
    {
      "cell_type": "code",
      "metadata": {
        "id": "yTPXBHl6XCMU"
      },
      "source": [
        ""
      ],
      "execution_count": null,
      "outputs": []
    },
    {
      "cell_type": "markdown",
      "metadata": {
        "id": "BCU751-hXCMX"
      },
      "source": [
        "## Exercise 3 - Returning Functions 2"
      ]
    },
    {
      "cell_type": "markdown",
      "metadata": {
        "id": "xrUv9jWEXCMX"
      },
      "source": [
        "### Assumptions\n",
        "\n",
        "Assume that `soccer` already exists, which is a list of dictionaries with the attributes `id`, `name`,`nationality`, `nat_pos` (national team position), `nat_kit` (jersey number on their national kit), and `club`. You can assume that all fields of each dictionary are filled with something, either useful data (e.g. `Bor. Dortmund`) or useless data (`NULL`), so all calls to a field will return something. You can also assume that all unrenderable characters have been removed."
      ]
    },
    {
      "cell_type": "markdown",
      "metadata": {
        "id": "A6-6NxN7XCMY"
      },
      "source": [
        "### What the data looks like\n",
        "\n",
        "`soccer` looks like the following:\n",
        "\n",
        "| id  | name              | nationality | nat_pos | nat_kit | club         |\n",
        "|-----|-------------------|-------------|---------|---------|--------------|\n",
        "| 1   | Cristiano Ronaldo | Portugal    | LS      | 7       | Real Madrid  |\n",
        "| 2   | Lionel Messi      | Argentina   | RW      | 10      | FC Barcelona |\n",
        "| 3   | Neymar            | Brazil      | LW      | 10      | FC Barcelona |\n",
        "| ... | ...               | ...         | ...     | ...     | ...          |"
      ]
    },
    {
      "cell_type": "markdown",
      "metadata": {
        "id": "9zCE4zY5XCMY"
      },
      "source": [
        "#### Task 1\n",
        "\n",
        "In the programming window below, print only the first ten (10) entries of the `soccer` list of dictionaries using string slicing on a dictionary item list. This should only be one line of code.\n",
        "\n",
        "*Hint: Remember that Python indices start at 0, not 1!*"
      ]
    },
    {
      "cell_type": "code",
      "metadata": {
        "id": "PfzQ2VsSXCMZ"
      },
      "source": [
        "print(soccer[0:9])"
      ],
      "execution_count": null,
      "outputs": []
    },
    {
      "cell_type": "markdown",
      "metadata": {
        "id": "jz88lvHMXCMb"
      },
      "source": [
        "#### Task 2\n",
        "\n",
        "Create a list of only names, using the list of dictionaries `soccer`. Put this list into a new variable called `names` and print `names`. This should only be two lines of code.\n",
        "\n",
        "For example, if I wanted `['apple', 'banana', 'orange']`, I could run `[d['fruit'] for d in list]`, assuming this list of dicts was called `list.\n",
        "\n",
        "```python\n",
        "[{'fruit': 'apple', 'qty': 2}, \n",
        " {'fruit': 'banana', 'qty': 3}, \n",
        " {'fruit': 'orange', 'qty': 4}]\n",
        "```"
      ]
    },
    {
      "cell_type": "code",
      "metadata": {
        "id": "VL00yAilXCMc"
      },
      "source": [
        ""
      ],
      "execution_count": null,
      "outputs": []
    },
    {
      "cell_type": "markdown",
      "metadata": {
        "id": "VHIlh9zKXCMe"
      },
      "source": [
        "#### Task 3\n",
        "\n",
        "Print the 16th entry of `names`."
      ]
    },
    {
      "cell_type": "code",
      "metadata": {
        "id": "_CpBl9_HXCMf"
      },
      "source": [
        ""
      ],
      "execution_count": null,
      "outputs": []
    },
    {
      "cell_type": "markdown",
      "metadata": {
        "id": "RF0ZaxzQXCMi"
      },
      "source": [
        "Your above output should have been `Thiago Silva`. If you didn't get that, check the index that you used."
      ]
    },
    {
      "cell_type": "markdown",
      "metadata": {
        "id": "mUvjMQTnXCMj"
      },
      "source": [
        "#### Task 4\n",
        "\n",
        "You've seen how to get a list of one type of data out of the list of dictionaries, and you've seen how to get data out of a list. Using this, write a function called `getData()` that takes the two arguments `attribute` and `playerIndex` and returns the data requested for a particular attribute in the dictionary by the player's index number as a `string`. You should be able to do this in three lines of code, though you can use more, if needed."
      ]
    },
    {
      "cell_type": "code",
      "metadata": {
        "id": "RRLenQVeXCMj"
      },
      "source": [
        ""
      ],
      "execution_count": null,
      "outputs": []
    },
    {
      "cell_type": "markdown",
      "metadata": {
        "id": "_pl0XfpjXCMm"
      },
      "source": [
        "#### Task 5\n",
        "\n",
        "Now that you've made your function `getData()`, it's time to use it. Print the output for your function for the following inputs:\n",
        "\n",
        "- club, 21\n",
        "- nat_pos, 41\n",
        "- nat_kit, 26"
      ]
    },
    {
      "cell_type": "code",
      "metadata": {
        "id": "nMZO6-h2XCMn"
      },
      "source": [
        ""
      ],
      "execution_count": null,
      "outputs": []
    },
    {
      "cell_type": "markdown",
      "metadata": {
        "id": "eQox7CgSXCMp"
      },
      "source": [
        "You should've gotten:\n",
        "\n",
        "```\n",
        "Bor. Dortmund\n",
        "RCB\n",
        "1\n",
        "```\n",
        "\n",
        "If you didn't, double-check your function and the indices that you used in your function call."
      ]
    },
    {
      "cell_type": "markdown",
      "metadata": {
        "id": "LPAqVVF9XCMq"
      },
      "source": [
        "## Exercise 4 - Void Functions with Arguments"
      ]
    },
    {
      "cell_type": "markdown",
      "metadata": {
        "id": "WROrDa-yXCMq"
      },
      "source": [
        "### Assumptions\n",
        "\n",
        "No assumptions needed. You need not use any external data for this part."
      ]
    },
    {
      "cell_type": "markdown",
      "metadata": {
        "id": "JKAp1C72XCMr"
      },
      "source": [
        "### Tasks\n",
        "\n",
        "#### Task 1\n",
        "\n",
        "Recall the print statements you used to print your cow from Task 1.1. Using that, write another set of print statements (not a function!) that prints a pig, whose art is provided to you below.\n",
        "\n",
        "```\n",
        "    n..n\n",
        "e___(oo)\n",
        "(____)\n",
        "//  \\\\\n",
        "```"
      ]
    },
    {
      "cell_type": "code",
      "metadata": {
        "id": "urUIcM8BXCMr"
      },
      "source": [
        ""
      ],
      "execution_count": null,
      "outputs": []
    },
    {
      "cell_type": "markdown",
      "metadata": {
        "id": "lQcn6LZlXCMu"
      },
      "source": [
        "#### Task 2\n",
        "\n",
        "Similarly, write some more print statements below to print a fox, whose art is provided to you below.\n",
        "\n",
        "```\n",
        "|\\_/|,,_____,~~`\n",
        "(.\".)~~     )`~}}\n",
        " \\o/\\ /---~\\\\ ~}}\n",
        "   _//    _// ~}\n",
        "```\n",
        "\n",
        "*Hint: Be very careful about escaping characters here. You probably need to escape more than just backslashes.*"
      ]
    },
    {
      "cell_type": "code",
      "metadata": {
        "id": "zWuxIHkSXCMv"
      },
      "source": [
        ""
      ],
      "execution_count": null,
      "outputs": []
    },
    {
      "cell_type": "markdown",
      "metadata": {
        "id": "h3uranEoXCMx"
      },
      "source": [
        "#### Task 3\n",
        "\n",
        "Using the text-art that you've Python-ified, write a function called `animals()` that takes one argument `animal` and prints a cow if animal is `cow`, prints a pig if animal is `pig`, and prints a fox if animal is `fox`. If your user doesn't pass in the string \"cow,\" \"pig,\" or \"fox,\" your function should tell your user to pick one of those three animals. Your function shouldn't return anything, only print."
      ]
    },
    {
      "cell_type": "code",
      "metadata": {
        "id": "zFYWsuosXCMy"
      },
      "source": [
        ""
      ],
      "execution_count": null,
      "outputs": []
    },
    {
      "cell_type": "markdown",
      "metadata": {
        "id": "Lmijwik7XCM0"
      },
      "source": [
        "#### Task 4\n",
        "\n",
        "Using your `animals()` function, write a script that prints two foxes, a cow, and a pig, in that order."
      ]
    },
    {
      "cell_type": "code",
      "metadata": {
        "id": "DCQvj9RgXCM1"
      },
      "source": [
        ""
      ],
      "execution_count": null,
      "outputs": []
    },
    {
      "cell_type": "markdown",
      "metadata": {
        "id": "adAjPkchXCM3"
      },
      "source": [
        "## Exercise 5 - Returning Functions 3"
      ]
    },
    {
      "cell_type": "markdown",
      "metadata": {
        "id": "WujcIrp0XCM4"
      },
      "source": [
        "### Assumptions\n",
        "\n",
        "No assumptions needed. You need not use any external data for this part."
      ]
    },
    {
      "cell_type": "markdown",
      "metadata": {
        "id": "gyOmHAwvXCM4"
      },
      "source": [
        "### Tasks\n",
        "\n",
        "#### Task 1\n",
        "\n",
        "Recall your series of print statements to make a cow, a pig, and a fox, which you used in part 4.3. Now, write another print statement to print a cow, but this time, only print one continuous string, not a series of six strings. You should only use one line of code here.\n",
        "\n",
        "*Hint: Use the escape sequence `\\n`.*"
      ]
    },
    {
      "cell_type": "code",
      "metadata": {
        "id": "8_LQO4vwXCM5"
      },
      "source": [
        ""
      ],
      "execution_count": null,
      "outputs": []
    },
    {
      "cell_type": "markdown",
      "metadata": {
        "id": "l2zSQlMPXCM7"
      },
      "source": [
        "#### Task 2\n",
        "\n",
        "Do the same thing for your pig and your fox. You should only use two lines of code here, one for your pig and one for your fox."
      ]
    },
    {
      "cell_type": "code",
      "metadata": {
        "id": "FUAe5x4iXCM7"
      },
      "source": [
        ""
      ],
      "execution_count": null,
      "outputs": []
    },
    {
      "cell_type": "markdown",
      "metadata": {
        "id": "fybq691DXCM-"
      },
      "source": [
        "#### Task 3\n",
        "\n",
        "Write a function called `retanimals()` that takes one argument `animals` and returns a single string of a cow if the animal passed in is a `cow`, returns a single string of a pig if the animal passed in is a `pig`, or returns a single string of a fox if the animal passed in is a `fox`. If the user enters something different, return a string letting the user know that they need to pick a valid animal.\n",
        "\n",
        "*Hint: This is very similar to part 4.3, but they are not the same. Don't use **any** print statements in this task!*"
      ]
    },
    {
      "cell_type": "code",
      "metadata": {
        "id": "xku5M-7kXCM-"
      },
      "source": [
        ""
      ],
      "execution_count": null,
      "outputs": []
    },
    {
      "cell_type": "markdown",
      "metadata": {
        "id": "YYlyY-SHXCNB"
      },
      "source": [
        "#### Task 4\n",
        "\n",
        "Now, call your `retanimals()` function, just like you did in part 4.4. Does it work?"
      ]
    },
    {
      "cell_type": "code",
      "metadata": {
        "id": "b2KcNKjgXCNB"
      },
      "source": [
        ""
      ],
      "execution_count": null,
      "outputs": []
    },
    {
      "cell_type": "markdown",
      "metadata": {
        "id": "47MD8yViXCNE"
      },
      "source": [
        "#### Task 5\n",
        "\n",
        "Modify your output statements so that the function calls print two foxes, a cow, and a pig."
      ]
    },
    {
      "cell_type": "code",
      "metadata": {
        "id": "HdoB3BfaXCNF"
      },
      "source": [
        ""
      ],
      "execution_count": null,
      "outputs": []
    },
    {
      "cell_type": "markdown",
      "metadata": {
        "id": "2ydcXLSOXCNH"
      },
      "source": [
        "---"
      ]
    },
    {
      "cell_type": "markdown",
      "metadata": {
        "id": "DcUFOQ2RXCNH"
      },
      "source": [
        "## Solutions"
      ]
    },
    {
      "cell_type": "code",
      "metadata": {
        "id": "UU4HlbeRXCNI"
      },
      "source": [
        "# 1.1\n",
        "print(\"          (__)\")\n",
        "print(\"          (oo)\")\n",
        "print(\"   /-------\\\\/\")\n",
        "print(\"  / |     ||\")\n",
        "print(\" *  ||----||\")\n",
        "print(\"    ^^    ^^\")\n",
        "\n",
        "# 1.2\n",
        "def cow():\n",
        "    print(\"          (__)\")\n",
        "    print(\"          (oo)\")\n",
        "    print(\"   /-------\\\\/\")\n",
        "    print(\"  / |     ||\")\n",
        "    print(\" *  ||----||\")\n",
        "    print(\"    ^^    ^^\")\n",
        "    \n",
        "# 1.3\n",
        "cow()\n",
        "cow()\n",
        "cow()\n",
        "cow()\n",
        "\n",
        "# 2.1\n",
        "print(stuarray)\n",
        "print()\n",
        "print(stuarray[0][14], \"\\n\", stuarray[1][14])\n",
        "\n",
        "# 2.2\n",
        "def getLang(index):\n",
        "    return stuarray[1][index]\n",
        "\n",
        "#2.3\n",
        "print(getLang(4))\n",
        "print(getLang(33))\n",
        "print(getLang(98))\n",
        "\n",
        "# 3.1\n",
        "print(soccer[0:9])\n",
        "\n",
        "# 3.2\n",
        "names = [d['name'] for d in soccer]\n",
        "print(names)\n",
        "\n",
        "# 3.3\n",
        "print(names[15])\n",
        "\n",
        "# 3.4\n",
        "def getData(attribute, playerIndex):\n",
        "    data = [d[attribute] for d in soccer]\n",
        "    return data[playerIndex]\n",
        "    # Remember, this is only a function declaration, so you shouldn't have gotten any output.\n",
        "\n",
        "# 3.5\n",
        "print(getData('club', 21))\n",
        "print(getData('nat_pos', 41))\n",
        "print(getData('nat_kit', 26))\n",
        "\n",
        "# 4.1\n",
        "print(\"    n..n\")\n",
        "print(\"e___(oo)\")\n",
        "print(\"(____)\")\n",
        "print(\"//  \\\\\\\\\")\n",
        "\n",
        "# 4.2\n",
        "print(\"|\\\\_/|,,_____,~~`\")\n",
        "print(\"(.\\\".)~~     )`~}}\")\n",
        "print(\" \\\\o/\\\\ /---~\\\\\\\\ ~}}\")\n",
        "print(\"   _//    _// ~}\")\n",
        "\n",
        "# 4.3\n",
        "def animals(animal):\n",
        "    if animal == \"cow\":\n",
        "        print(\"          (__)\")\n",
        "        print(\"          (oo)\")\n",
        "        print(\"   /-------\\\\/\")\n",
        "        print(\"  / |     ||\")\n",
        "        print(\" *  ||----||\")\n",
        "        print(\"    ^^    ^^\")\n",
        "    elif animal == \"pig\":\n",
        "        print(\"    n..n\")\n",
        "        print(\"e___(oo)\")\n",
        "        print(\"(____)\")\n",
        "        print(\"//  \\\\\\\\\")\n",
        "    elif animal == \"fox\":\n",
        "        print(\"|\\\\_/|,,_____,~~`\")\n",
        "        print(\"(.\\\".)~~     )`~}}\")\n",
        "        print(\" \\\\o/\\\\ /---~\\\\\\\\ ~}}\")\n",
        "        print(\"   _//    _// ~}\")\n",
        "    else:\n",
        "        print(\"Please use argument \\\"cow\\\", \\\"pig\\\" or \\\"fox\\\".\")\n",
        "\n",
        "# 4.4\n",
        "animals(\"fox\")\n",
        "animals(\"fox\")\n",
        "animals(\"cow\")\n",
        "animals(\"pig\")\n",
        "\n",
        "# 5.1\n",
        "print(\"          (__)\\n          (oo)\\n   /-------\\\\/\\n  / |     ||\\n *  ||----||\\n    ^^    ^^\")\n",
        "\n",
        "# 5.2\n",
        "print(\"    n..n\\ne___(oo)\\n(____)\\n//  \\\\\\\\\")\n",
        "print(\"|\\\\_/|,,_____,~~`\\n(.\\\".)~~     )`~}}\\n \\\\o/\\\\ /---~\\\\\\\\ ~}}\\n   _//    _// ~}\")\n",
        "\n",
        "# 5.3\n",
        "def retanimals(animal):\n",
        "    if animal == \"cow\":\n",
        "        return \"          (__)\\n          (oo)\\n   /-------\\\\/\\n  / |     ||\\n *  ||----||\\n    ^^    ^^\"\n",
        "    elif animal == \"pig\":\n",
        "        return \"    n..n\\ne___(oo)\\n(____)\\n//  \\\\\\\\\"\n",
        "    elif animal == \"fox\":\n",
        "        return \"|\\\\_/|,,_____,~~`\\n(.\\\".)~~     )`~}}\\n \\\\o/\\\\ /---~\\\\\\\\ ~}}\\n   _//    _// ~}\"\n",
        "    else:\n",
        "        return \"Please use argument \\\"cow\\\", \\\"pig\\\" or \\\"fox\\\".\"\n",
        "\n",
        "# 5.4\n",
        "retanimals(\"fox\")\n",
        "retanimals(\"fox\")\n",
        "retanimals(\"cow\")\n",
        "retanimals(\"pig\")\n",
        "### This should not work like part 4.4 did.\n",
        "\n",
        "# 5.5\n",
        "print(retanimals(\"fox\"))\n",
        "print(retanimals(\"fox\"))\n",
        "print(retanimals(\"cow\"))\n",
        "print(retanimals(\"pig\"))"
      ],
      "execution_count": null,
      "outputs": []
    }
  ]
}
