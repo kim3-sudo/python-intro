{
 "cells": [
  {
   "cell_type": "markdown",
   "metadata": {},
   "source": [
    "# Python 3 Cheat Sheets\n",
    "## An introductory PDF text for Python, Scientific Computing 118 Supplement\n",
    "### Sejin Kim, Kenyon College\n",
    "### PD Open Text, open under the WTFPL License"
   ]
  },
  {
   "cell_type": "markdown",
   "metadata": {},
   "source": [
    "---"
   ]
  },
  {
   "cell_type": "markdown",
   "metadata": {},
   "source": [
    "# Why study development?\n",
    "\n",
    "Software is becoming a larger and larger part of our daily lives. Different machines use different forms of software. From ATMs to parking meters, compute servers to emergency radios, software runs our lives increasingly. In fact, if all of the software stopped working, planes would just drop out of the skies, stocks would crash instantly, and global communications would cease to exist.\n",
    "\n",
    "Python is only one of many different programming languages out there, and it has its own special place in the development world. Other languages include C++, Haskell, Ruby, R, Java, JavaScript, and even Ada. Once you pick up Python, though, you’ll find that other programming languages don’t look so different.\n",
    "\n",
    "Of note is, development, to most people, is not inherently fun. I know, right? In reality, the act of coding is full of twists and turns, and it’s not easy. However, the joy of coding comes with the things that you can do with your code. Think of code as a tool that you can do so many other things with.\n",
    "\n",
    "What is this text not? It’s not a comprehensive view of the software development landscape, or the hardware or firmware world. We won’t discuss what a CPU does or how it works, or how a temperature sensor on a motherboard sends input. This text will also not provide you with any development exercises. However, we encourage you to walk through coding exercises on your own. This is only an introductory text for reading and developing in Python."
   ]
  },
  {
   "cell_type": "markdown",
   "metadata": {},
   "source": [
    "# 0. Development Basics\n",
    "\n",
    "Like a builder might use a hammer, a screwdriver, and a wrench, a programmer has some tools at their disposal. We use these tools to debug our code and turn it into instructions that our computer can understand.\n",
    "\n",
    "The first and foremost is called an IDE, or integrated development environment. That's just a fancy way of saying a place where you can write and run code that you write. repl.it, Google Colaboratory, Apple Xcode and Microsoft Visual Studio are all IDEs. IDEs can be broken down into two fundamental components: a text editor and a compiler.\n",
    "\n",
    "A text editor is pretty simple. It's a place where you can edit plain text. If you're on a Mac, you can use Apple Textedit, and if you're on PC, you can use Notepad. Don’t confuse these with software packages like Microsoft Word, Google Sheets, or Apple Pages.  You can also download different text editors, like BBEdit for Mac, Atom for Mac, PC and Linux, or Notepad++ for PC and Linux, and they all have their own strengths and weaknesses. There's also text editors that can run in the terminal, like emacs and nano.\n",
    "\n",
    "A compiler is a little bit more complicated. We code in Python, but computers can't natively understand Python. Python would be what developers call \"source code\", and it's almost always human readable, but not machine readable. (There are some source code languages that aren't human readable, like BrainF, but these are fringe cases.) When we want to run a bit of our source code, we need to translate it into something that our computers can understand. This happens in two stages. The first stage converts our source code into assembly code, instructions that the computer can then break down. Assembly code is only readable to the trained eye, and is difficult to think about intuitively. The second stage breaks code down to machine code, or the 1's and 0's that the computer can understand, but that isn't human-readable.\n",
    "\n",
    "All of that seems a little bit abstract still, so let’s look at how that code looks in real life, if we were to open the files as a plain text file.\n",
    "\n",
    "First, let’s examine a sample Python script:"
   ]
  },
  {
   "cell_type": "code",
   "execution_count": 60,
   "metadata": {},
   "outputs": [
    {
     "name": "stdout",
     "output_type": "stream",
     "text": [
      "120\n"
     ]
    }
   ],
   "source": [
    "# A comment at the top of every code block will tell you whether this code is RUNNABLE\n",
    "# RUNNABLE\n",
    "def factorial(n):\n",
    "  if n == 0:\n",
    "    return 1\n",
    "  else:\n",
    "    return n * factorial(n - 1)\n",
    "print(factorial(5))"
   ]
  },
  {
   "cell_type": "markdown",
   "metadata": {},
   "source": [
    "With a little bit of sleuthing, we can figure out that this script will find the factorial of 5, which turns out to be 120.\n",
    "\n",
    "Now, let’s look at the “human-readable” assembly code that our compiler will turn this into."
   ]
  },
  {
   "cell_type": "markdown",
   "metadata": {},
   "source": [
    "```\n",
    "^C\n",
    "<*^c^@^@^@^@^@^@^@^@^B^@^@^@@^@^@^@s^X^@^@^@d^@^@^^@^@Z^@^@e^@^@d^A^@^^A^@GHd^B^@S(^C^@^@^@c^A^@^@^@^A^@^@^@^D^@^@^@$\n",
    "```"
   ]
  },
  {
   "cell_type": "markdown",
   "metadata": {},
   "source": [
    "Now that doesn’t make sense. But, it makes perfect sense to our computer, which knows how to parse this information into an executable program.\n",
    "\n",
    "One of the most important things to understand about computers is, they’re not magic. It’s not a black box. You can do as little or as much as you want with them, but they can do a lot for you. Have fun."
   ]
  },
  {
   "cell_type": "markdown",
   "metadata": {},
   "source": [
    "# 1. Printing and Variables\n",
    "\n",
    "If there's anything that computers are good at doing, it's following instructions.\n",
    "\n",
    "One of the most simple instructions that we can assign a program are prints. Printing is computationally virtually zero-effort, and it can enable a slew of debugging down the line. For example, take this Python program from above (don't worry, you don't have to understand what it does yet)."
   ]
  },
  {
   "cell_type": "code",
   "execution_count": 61,
   "metadata": {},
   "outputs": [
    {
     "name": "stdout",
     "output_type": "stream",
     "text": [
      "120\n"
     ]
    }
   ],
   "source": [
    "# RUNNABLE\n",
    "def factorial(n):\n",
    "  if n == 0:\n",
    "    return 1\n",
    "  else:\n",
    "    return n * factorial(n - 1)\n",
    "print(factorial(5))"
   ]
  },
  {
   "cell_type": "markdown",
   "metadata": {},
   "source": [
    "All of that's pretty intimidating. Now, let's imagine that something's not working as we wanted it to. Something's getting hung up somewhere, but our program is still technically compiling. We could put some print statements in, perhaps more frequently, so that we could figure out exactly where things are going wrong.\n",
    "\n",
    "Here’s how that might look:"
   ]
  },
  {
   "cell_type": "code",
   "execution_count": 62,
   "metadata": {},
   "outputs": [
    {
     "name": "stdout",
     "output_type": "stream",
     "text": [
      "n is zero!\n",
      "120\n"
     ]
    }
   ],
   "source": [
    "# RUNNABLE\n",
    "def factorial(n):\n",
    "  if n==0:\n",
    "    print(\"n is zero!\")\n",
    "    return 1\n",
    "  else:\n",
    "    return n * factorial(n-1)\n",
    "    print(\"we can do the factorial!\")\n",
    "print(factorial(5))"
   ]
  },
  {
   "cell_type": "markdown",
   "metadata": {},
   "source": [
    "As you can see, Python makes printing really easy. The `print()` function is a basic feature of base Python. No semicolons, no no chevrons, just `print()`.\n",
    "\n",
    "We can also make things called variables. Like variables in math, program variables hold some data, but that data can change (hence the \"vary\" part). You could name a variable anything that isn't a reserved word in Python. You don't even have to use English. You could name a variable\n",
    "` ¯\\_(ツ)_/¯ ` if you really wanted to. However, you probably want to name your variables well. They should describe what they hold.\n",
    "\n",
    "There are several different types of variables, and they all have their advantages and disadvantages:\n",
    "\n",
    "- `int` variables can only hold integers, or whole numbers; you cannot put letters or characters other than - and whole numbers into an integer\n",
    "- `float` variables can hold decimals; in addition to the information that you could store in an int, you can now use a decimal point . to increase your precision. Now, you might be asking, why not just use a float for everything? Why do ints exist? Floats take dramatically more memory to hold. For a more concrete example check out the [demo](https://processing.org/examples/integersfloats.html)[^1] here, where you can see how the top line represents a big loop with an int, and the bottom line represents the same loop, but with a float.\n",
    "- `complex` variables can also hold imaginary numbers; think back to Algebra 2. Remember how `sqrt(-1)` can be represented as an `i` in an equation? Complex variables can also hold imaginary numbers, and define them using a j. For example, `2*i` in math would be written as `2j` in a complex variable.\n",
    "- `string` variables can hold letters as information. Imagine that you had alphabet soup, and you picked out the \"alphabet\" part. If you got a piece of twine and put your alphabet on that twine in a particular order, you got yourself a Python string.\n",
    "- `boolean` variables can only hold one information state: true or false. Benefits? They only require one bit to store, meaning that they're really fast to work with.\n",
    "\n",
    "There are two steps to using variables in any programming language: **declaration** and **initialization**. Declaration just tells the compiler to make a new variable, and to give it the name that you've given it. You're *declaring* that this variable exists. Initialization is a fancy way of saying that we want to put something into a variable that we've declared. For example, we might declare a boolean variable called `varsityAthlete`, but it has no meaning until we initialize it with some data, like `True`.\n",
    "\n",
    "Variables exist in almost every single modern programming language. Different programming languages deal with variables differently, but again, Python makes things pretty easy, since it doesn't require you to explicitly define the variable type. By using a single equal sign =, we can initialize and declare a variable in one fell swoop. Python will do its best to figure out what kind of variable it is, depending on what kind of information you give it. Let's look at an example.\n"
   ]
  },
  {
   "cell_type": "code",
   "execution_count": 63,
   "metadata": {},
   "outputs": [
    {
     "name": "stdout",
     "output_type": "stream",
     "text": [
      "3.39\n",
      "Stinky Pete\n",
      "391\n",
      "390 True\n"
     ]
    }
   ],
   "source": [
    "# RUNNABLE\n",
    "cashValue = 3.39\n",
    "accountHolder = \"Stinky Pete\"\n",
    "isBroke = True\n",
    "kitties = 390\n",
    "\n",
    "print(cashValue)\n",
    "print(accountHolder)\n",
    "print(isBroke + kitties)\n",
    "print(kitties, isBroke)"
   ]
  },
  {
   "cell_type": "markdown",
   "metadata": {},
   "source": [
    "In our example, lines 1-3 are declaring three variables of differing types: a float, a string, and a bool. The variable names `cashValue`, `accountHolder`, and `isBroke` explain what information the variables hold pretty well. However, the variable `kitties` doesn't really make sense. Is this how many kitties I have? Is it my love or hatred of cats on a scale from 1-1000? We don't really know.\n",
    "\n",
    "We talked about how Python is smart enough to figure out what kind of variable you’re declaring, without having to explicitly declare the variable, like in some languages[^2]. But, how does Python really know what you’re trying to give it?\n",
    "\n",
    "If you declare a variable with no quotes at all, but only with numerical information, Python will assume that you are declaring either an `int`eger or a `float`. By default, Python uses the smallest type possible; that is, if you declare a variable as 3, Python will try and store it as an `int`eger first. If you declare a variable as 3.39, Python knows that it can’t store that as an `int`eger, so it’ll upgrade the variable type to a `float`.\n",
    "\n",
    "If you declare a variable with no quotes, but as a `True` or `False`, Python recognizes these reserved words as values of a `bool`ean variable. If the variable only stores a `True` or `False`, then Python will continue to store this value as such. You cannot attempt to put some other value into a boolean variable without risking some unexpected behavior.\n",
    "\n",
    "If you declare a variable with quotation marks or single quotes, Python will automatically assume that you are inputting a `string`. Whether the input is \"sandwiches\" or \"3\", Python will still store that value as a string, and it is inoperable by standard arithmetic operations. Take a look at this code."
   ]
  },
  {
   "cell_type": "code",
   "execution_count": 64,
   "metadata": {},
   "outputs": [
    {
     "ename": "TypeError",
     "evalue": "unsupported operand type(s) for +: 'int' and 'str'",
     "output_type": "error",
     "traceback": [
      "\u001b[1;31m---------------------------------------------------------------------------\u001b[0m",
      "\u001b[1;31mTypeError\u001b[0m                                 Traceback (most recent call last)",
      "\u001b[1;32m<ipython-input-64-7ffb752bc98a>\u001b[0m in \u001b[0;36m<module>\u001b[1;34m\u001b[0m\n\u001b[0;32m      1\u001b[0m \u001b[0ma\u001b[0m \u001b[1;33m=\u001b[0m \u001b[1;36m3\u001b[0m\u001b[1;33m\u001b[0m\u001b[1;33m\u001b[0m\u001b[0m\n\u001b[0;32m      2\u001b[0m \u001b[0mb\u001b[0m \u001b[1;33m=\u001b[0m \u001b[1;34m\"3\"\u001b[0m\u001b[1;33m\u001b[0m\u001b[1;33m\u001b[0m\u001b[0m\n\u001b[1;32m----> 3\u001b[1;33m \u001b[0mc\u001b[0m \u001b[1;33m=\u001b[0m \u001b[0ma\u001b[0m \u001b[1;33m+\u001b[0m \u001b[0mb\u001b[0m\u001b[1;33m\u001b[0m\u001b[1;33m\u001b[0m\u001b[0m\n\u001b[0m\u001b[0;32m      4\u001b[0m \u001b[0mprint\u001b[0m\u001b[1;33m(\u001b[0m\u001b[0mc\u001b[0m\u001b[1;33m)\u001b[0m\u001b[1;33m\u001b[0m\u001b[1;33m\u001b[0m\u001b[0m\n",
      "\u001b[1;31mTypeError\u001b[0m: unsupported operand type(s) for +: 'int' and 'str'"
     ]
    }
   ],
   "source": [
    "# RUNNABLE, GIVES ERRORS ON PURPOSE\n",
    "a = 3\n",
    "b = \"3\"\n",
    "c = a + b\n",
    "print(c)"
   ]
  },
  {
   "cell_type": "markdown",
   "metadata": {},
   "source": [
    "Intuitively, to humans, you’d think that this would print a 6. If you try to run this though, you’ll probably get a concatenation error. That means that Python can’t combine the types of variables into one.\n",
    "\n",
    "Speaking of which, can we combine variables? Yes, yes we can. Remember how Python tries to store variables in the smallest type possible? Python can also “upgrade” variables of the same group of variables - that is, small numbers can become bigger. Take a look at this code."
   ]
  },
  {
   "cell_type": "code",
   "execution_count": 65,
   "metadata": {},
   "outputs": [
    {
     "name": "stdout",
     "output_type": "stream",
     "text": [
      "8.34\n"
     ]
    }
   ],
   "source": [
    "# RUNNABLE \n",
    "a = 3\n",
    "b = 5.34\n",
    "a = b + a\n",
    "print(a)"
   ]
  },
  {
   "cell_type": "markdown",
   "metadata": {},
   "source": [
    "The variable `a` is originally being declared as an `int`eger variable, and `b` is being declared as a `float` variable. However, when I re-initialize a using a variable that’s bigger than an `int`eger, Python will decide that the variable can no longer be stored as an `int`eger, and will upgrade the type to a `float` to accommodate the decimals. In other words, Python tries not to throw away information, if it can help it.\n",
    "\n",
    "As alluded to above, we can also re-initialize variables, even with themselves. When we do so, the order matters! The data that will fill the variable should always come on the right, and the result should always be on the left. As such, the result can only be a single variable.\n",
    "\n",
    "As a result, this is valid syntax."
   ]
  },
  {
   "cell_type": "code",
   "execution_count": 69,
   "metadata": {},
   "outputs": [
    {
     "name": "stdout",
     "output_type": "stream",
     "text": [
      "38.34\n"
     ]
    }
   ],
   "source": [
    "# RUNNABLE\n",
    "c = 33\n",
    "a = b + c\n",
    "print (a)"
   ]
  },
  {
   "cell_type": "markdown",
   "metadata": {},
   "source": [
    "But, this is not."
   ]
  },
  {
   "cell_type": "code",
   "execution_count": 71,
   "metadata": {},
   "outputs": [
    {
     "ename": "SyntaxError",
     "evalue": "cannot assign to operator (<ipython-input-71-a87321e6b516>, line 1)",
     "output_type": "error",
     "traceback": [
      "\u001b[1;36m  File \u001b[1;32m\"<ipython-input-71-a87321e6b516>\"\u001b[1;36m, line \u001b[1;32m1\u001b[0m\n\u001b[1;33m    b + c = a\u001b[0m\n\u001b[1;37m    ^\u001b[0m\n\u001b[1;31mSyntaxError\u001b[0m\u001b[1;31m:\u001b[0m cannot assign to operator\n"
     ]
    }
   ],
   "source": [
    "# RUNNABLE, GIVES ERROR ON PURPOSE\n",
    "b + c = a"
   ]
  },
  {
   "cell_type": "markdown",
   "metadata": {},
   "source": [
    "Variables are the foundational building block of any modern programming language. Whether you’re talking about Python, Java, or C++, variables form the base that we’ll build upon later."
   ]
  },
  {
   "cell_type": "markdown",
   "metadata": {},
   "source": [
    "# 2. Non Primitive Data Types\n",
    "\n",
    "Python can also handle something called non-primitive data types. First, though, we need to define what a primitive data type is.\n",
    "\n",
    "A primitive data type is some data variable that only stores one thing. That thing might be an integer, a boolean, or even a string, but critically speaking, it only stores one of those things.\n",
    "\n",
    "Comparatively speaking, a non-primitive data type stores more than one of those things per type declaration. One of the most stimple types of declaration is a list. A list is simply a bunch of a single variable type, like a list of strings or a list of integers.\n",
    "\n",
    "We can declare and initialize a list by enclosing the data in square brackets. Consider the following code."
   ]
  },
  {
   "cell_type": "code",
   "execution_count": 73,
   "metadata": {},
   "outputs": [
    {
     "name": "stdout",
     "output_type": "stream",
     "text": [
      "[2, 3, 5, 7]\n"
     ]
    }
   ],
   "source": [
    "# RUNNABLE\n",
    "primes = [2, 3, 5, 7]\n",
    "print(primes)"
   ]
  },
  {
   "cell_type": "markdown",
   "metadata": {},
   "source": [
    "In this, we’re declaring a new list of integers named primes, and filling it the the data in the square brackets, a bunch of integers. Note that you cannot mix primitive variable types in one string. For example, consider the following code."
   ]
  },
  {
   "cell_type": "code",
   "execution_count": 75,
   "metadata": {},
   "outputs": [
    {
     "name": "stdout",
     "output_type": "stream",
     "text": [
      "['doberman', 5, 3.22]\n"
     ]
    }
   ],
   "source": [
    "# RUNNABLE\n",
    "puppy = [\"doberman\", 5, 3.22]\n",
    "print(puppy)"
   ]
  },
  {
   "cell_type": "markdown",
   "metadata": {},
   "source": [
    "While this is valid declaration, syntactically, it's somewhat poor practice. It mixes strings, integers, and floats, all in one list. Instead, we should declare these values separately. Consider the following code."
   ]
  },
  {
   "cell_type": "code",
   "execution_count": 76,
   "metadata": {},
   "outputs": [],
   "source": [
    "# RUNNABLE\n",
    "puppyBreeds = [\"doberman\", \"pug\", \"golden lab\"]\n",
    "puppyWeights = [5, 3, 3]\n",
    "puppyTemperments = [3.22, 4, 5.5]"
   ]
  },
  {
   "cell_type": "markdown",
   "metadata": {},
   "source": [
    "In this example, `puppyBreeds` is a list of strings, `puppyWeights` is a list of integers, and `puppyTemperments` is a list of floats. Note that in the `puppyTemperments` list, there’s an integer. However, because the list has been declared as a list of floats, our integer will be stored as a float."
   ]
  },
  {
   "cell_type": "markdown",
   "metadata": {},
   "source": [
    "# 3. Handling Numbers\n",
    "Now that we know how to deal with variables, we can start manipulating numbers by putting them in variables. Our ability to manipulate numbers will allow us to control our programs and do more with less code.\n",
    "\n",
    "There are seven fundamental number operations in Python:"
   ]
  },
  {
   "cell_type": "code",
   "execution_count": null,
   "metadata": {},
   "outputs": [],
   "source": [
    "# RUNNABLE\n",
    "print(1+1) #addition\n",
    "print(1-1) #subtraction\n",
    "print(3*3) #multiplication\n",
    "print(3**3) #exponentiation\n",
    "print(6/2) #division\n",
    "print(7//3) #strict division\n",
    "print(28%3) #modulus"
   ]
  },
  {
   "cell_type": "markdown",
   "metadata": {},
   "source": [
    "Addition, subtraction, multiplication, and division are (hopefully) pretty obvious, but exponentiation, strict division, and the modulus operators might not be[^3].\n",
    "\n",
    "The exponentiation operator uses two asterisks `**`, which tells the compiler to use the first number as the base, and the second number as the exponent. For example, if we were to write `2^9` on paper, we would write `(2**9)` in Python.\n",
    "\n",
    "Strict division will drop any of the decimal places, making your answer correct to the ones place. If we ran `(9/2)`, we would get `4.5`, but if we ran `(9//2)`, we would only get `4`. When running strict division, Python will never round up. Even if we ran `(1399//100)`, Python will still return 13, not 14.\n",
    "\n",
    "The modulus is closely related to division, and it's the computer science term for the remainder of a division operation. For example, if we ran `(9/2)`, we would get `4.5`, but if we ran `(9%2)`, we would get `0.5`.\n",
    "\n",
    "It might be easiest to think about these operators in a table, especially when you’re trying to get certain numbers out of a longer integer or float. An abridged example is given here.\n",
    "\n",
    "| 1397 | /     | //   | %    |\n",
    "|------|-------|------|------|\n",
    "| 1    | 1397  | 1397 | 1397 |\n",
    "| 10   | 139.7 | 139  | 7    |\n",
    "| 100  | 13.97 | 13   | 97   |\n",
    "| 1000 | 1.397 | 1    | 397  |\n",
    "\n",
    "When running arithmetic operations in Python, more parentheses never hurt. You should always enclose your basic operations in parentheses, and control the order of operations more tightly by dictating what operation to carry out first.\n",
    "\n",
    "As specified in section 1, Python tries not to throw data away. If you specify an integer, and try to upgrade it to a float, Python should honor that. Likewise, if a float’s decimal places are removed, say, with a modulo, Python will attempt to store that information as an integer until it is no longer able to."
   ]
  },
  {
   "cell_type": "markdown",
   "metadata": {},
   "source": [
    "# 4. Conditional Logic\n",
    "\n",
    "Conditional logic is the idea that you can control the flow of a program by using special statements. You probably have heard of these special statements, even if it’s not because of programming. For example, if you were giving someone directions to the grocery store, you might say that “if you see the donut shop, then you’ve gone too far.”\n",
    "\n",
    "Conditional logic when programming is very similar to real life, except that the syntax is much more locked down. Your conditions must adhere to the Python standard.\n",
    "\n",
    "Whitespace is an important concept in Python, as it is how the language determines what statements are subordinate to others. In Python, the depth of a statement matters, but space between operators and comparators does not[^4]. We encourage you to put space in between your operators and comparators to facilitate easier reading of code. Your style guide will dictate what kind of whitespace you should use, as there are several different methods. Some developers use two spaces, some use four spaces, some use tabs.\n",
    "\n",
    "There are three big conditional statements in Python: `if`, `else`, and `elif`. Let’s walk through them one-by-one.\n",
    "\n",
    "If statements are the most basic of the conditional statements, but that doesn’t mean that they’re not as important. In fact, they are critical to controlling logic in the first place. For the sake of this section’s simplicity, we will control most of our logic using integers, only dipping our toes into lists. Do note that it is possible to control logic using floats or even complex, but this is certainly more complicated.\n",
    "\n",
    "First, let’s declare two variables, `a` and `b`."
   ]
  },
  {
   "cell_type": "code",
   "execution_count": null,
   "metadata": {},
   "outputs": [],
   "source": [
    "# RUNNABLE\n",
    "a = 0\n",
    "b = 3"
   ]
  },
  {
   "cell_type": "markdown",
   "metadata": {},
   "source": [
    "As we saw in section 1, Python will store both of these as integers. Now, we can ask Python if one of these integers is greater than the other."
   ]
  },
  {
   "cell_type": "code",
   "execution_count": null,
   "metadata": {},
   "outputs": [],
   "source": [
    "# RUNNABLE\n",
    "if a < b:\n",
    "  print('a less than b')\n",
    "if b < a:\n",
    "  print('b less than a')"
   ]
  },
  {
   "cell_type": "markdown",
   "metadata": {},
   "source": [
    "We would expect the output of this to only be “a less than b”.\n",
    "\n",
    "Let’s look at each line of this script, line-by-line.\n",
    "\n",
    "We begin our conditional statement with an `if` statement, and we provide a condition, whether `a < b`. The last thing in the line is a colon `:`. This is here to indicate to Python that this is an action that we want to carry out if the condition is met.\n",
    "\n",
    "In the next line, we start off with whitespace. Like stated above, your whitespace is indicating to Python that this statement is subordinate to the conditional statement. This statement contains an executable action, a `print()` statement. This line will only be run if the condition that controls it is true. After the material inside of the if statement is run, the conditional section exits, and the program continues procedurally.\n",
    "\n",
    "In line 3, we have another `if` statement. However, this time, we observe that the condition is not met. `0` is, in fact, not greater than `3`. As a result, we skip anything inside of the conditional section.\n",
    "\n",
    "We can also run conditional statements as boolean comparisons; Python can ask the question, “does the variable contain anything?” It returns true if something is contained, and false if the variable is empty, zero or false. For example, take the following lines."
   ]
  },
  {
   "cell_type": "code",
   "execution_count": 78,
   "metadata": {},
   "outputs": [
    {
     "ename": "NameError",
     "evalue": "name 'x' is not defined",
     "output_type": "error",
     "traceback": [
      "\u001b[1;31m---------------------------------------------------------------------------\u001b[0m",
      "\u001b[1;31mNameError\u001b[0m                                 Traceback (most recent call last)",
      "\u001b[1;32m<ipython-input-78-6317ec8242ef>\u001b[0m in \u001b[0;36m<module>\u001b[1;34m\u001b[0m\n\u001b[0;32m      1\u001b[0m \u001b[1;31m# RUNNABLE\u001b[0m\u001b[1;33m\u001b[0m\u001b[1;33m\u001b[0m\u001b[1;33m\u001b[0m\u001b[0m\n\u001b[1;32m----> 2\u001b[1;33m \u001b[1;32mif\u001b[0m \u001b[0mx\u001b[0m\u001b[1;33m:\u001b[0m\u001b[1;33m\u001b[0m\u001b[1;33m\u001b[0m\u001b[0m\n\u001b[0m\u001b[0;32m      3\u001b[0m   \u001b[0mprint\u001b[0m\u001b[1;33m(\u001b[0m\u001b[1;34m'x has something'\u001b[0m\u001b[1;33m)\u001b[0m\u001b[1;33m\u001b[0m\u001b[1;33m\u001b[0m\u001b[0m\n\u001b[0;32m      4\u001b[0m \u001b[1;32mif\u001b[0m \u001b[0my\u001b[0m\u001b[1;33m:\u001b[0m\u001b[1;33m\u001b[0m\u001b[1;33m\u001b[0m\u001b[0m\n\u001b[0;32m      5\u001b[0m   \u001b[0mprint\u001b[0m\u001b[1;33m(\u001b[0m\u001b[1;34m'y has something'\u001b[0m\u001b[1;33m)\u001b[0m\u001b[1;33m\u001b[0m\u001b[1;33m\u001b[0m\u001b[0m\n",
      "\u001b[1;31mNameError\u001b[0m: name 'x' is not defined"
     ]
    }
   ],
   "source": [
    "# NOT RUNNABLE\n",
    "if x:\n",
    "  print('x has something')\n",
    "if y:\n",
    "  print('y has something')"
   ]
  },
  {
   "cell_type": "markdown",
   "metadata": {},
   "source": [
    "In this case, the expected output is only “y has something”. The variable y has a non-zero and non-false value, 3, so the if statement returns a true. Alternatively, the x variable has a zero-value, so the `if` statement returns a false, and the code inside of that statement is not run.\n",
    "\n",
    "Python also has the ability to check equality, but it’s important to not use the assignment operator. You must use a double equal sign `==` to compare the values. You can also run a non-equality using an exclamation mark and equal sign `!=`, a less than or equal to using a left chevron and equal `<=`, or a greater than or equal to using a right chevron and equal `>=`.\n",
    "\n",
    "For this example, we will declare a third variable, `c`."
   ]
  },
  {
   "cell_type": "code",
   "execution_count": 77,
   "metadata": {},
   "outputs": [],
   "source": [
    "# RUNNABLE\n",
    "c = 3"
   ]
  },
  {
   "cell_type": "markdown",
   "metadata": {},
   "source": [
    "Now, consider the following script."
   ]
  },
  {
   "cell_type": "code",
   "execution_count": 79,
   "metadata": {},
   "outputs": [
    {
     "name": "stdout",
     "output_type": "stream",
     "text": [
      "Condition 3 true\n"
     ]
    }
   ],
   "source": [
    "# RUNNABLE\n",
    "if a == b:\n",
    "  print('Condition 1 true')\n",
    "if b == c:\n",
    "  print('Condition 2 true')\n",
    "if a != b:\n",
    "  print('Condition 3 true')\n",
    "if b <= c:\n",
    "  print('Condition 4 true')"
   ]
  },
  {
   "cell_type": "markdown",
   "metadata": {},
   "source": [
    "We would expect the following output.\n",
    "\n",
    "```\n",
    "Condition 3 true\n",
    "```\n",
    "\n",
    "Now that we’ve covered `if` statements, we can move on to different outcomes. Sometimes, we want to evaluate conditions and take one path if the condition is met, but also want to specify something to do if the conditions are not met. This is accomplished with an `else` clause. `else` statements must be prefaced with an `if` statement. Look at the following frame."
   ]
  },
  {
   "cell_type": "code",
   "execution_count": null,
   "metadata": {},
   "outputs": [],
   "source": [
    "# NOT RUNNABLE\n",
    "if condition == true:\n",
    "  print('condition is true')\n",
    "else:\n",
    "  print('condition is false')"
   ]
  },
  {
   "cell_type": "markdown",
   "metadata": {},
   "source": [
    "If the condition is true, the first suite is executed and the second is skipped. If the condition is false, then the first suite is skipped and the second is executed. Either way, execution resumes after the second suite. Like in an `if` statement, the code to be executed is defined by the indentation. This gives us a much tighter degree of control over the flow of our software. Let’s look at our example from above."
   ]
  },
  {
   "cell_type": "code",
   "execution_count": null,
   "metadata": {},
   "outputs": [],
   "source": [
    "# RUNNABLE\n",
    "if a == 0:\n",
    "  print('a is zero')\n",
    "else:\n",
    "  print('a is not zero')"
   ]
  },
  {
   "cell_type": "markdown",
   "metadata": {},
   "source": [
    "In this example, observe that our `else` statement has no switches on it. It’s simply an action to be taken if the original condition is not met. In this way, writing `else a !=0:` would be syntactically incorrect. Let’s look at a different way to implement a second degree of switching.\n",
    "\n",
    "We can go one step deeper by looking at different steps of conditional logic that can offer different outcomes. Python implements this using `elif` statements. These statements must be prefaced with an `if` statement, and must contain some condition. Take a look at the following program."
   ]
  },
  {
   "cell_type": "code",
   "execution_count": null,
   "metadata": {},
   "outputs": [],
   "source": [
    "# RUNNABLE\n",
    "a = 0\n",
    "if a != 0:\n",
    "  print('a is not zero')\n",
    "elif a == 5:\n",
    "  print('a is five')\n",
    "elif a == 3:\n",
    "  print('a is three')\n",
    "elif a == 0:\n",
    "  print('a is zero')"
   ]
  },
  {
   "cell_type": "markdown",
   "metadata": {},
   "source": [
    "If you were to run this script, you would find that since a is zero, the first three conditions are not satisfied, but the fourth one is. If you want a high degree of granularity in your logic conditions, `elif` statements can offer this."
   ]
  },
  {
   "cell_type": "markdown",
   "metadata": {},
   "source": [
    "# 5. Loops\n",
    "\n",
    "Loops are a critical part of any complex program. They allow you to specifically control the flow of your program without actually having to copy and paste the same code, multiple times. They rely on conditional logic to control them.\n",
    "\n",
    "A word of warning when using loops: it is possible for loops to grow uncontrollably. If you do not implement your logic correctly, you could feasibly end up with an infinite loop. The only way to break this loop would be to terminate the program or wait for it to crash when it runs out of memory.\n",
    "\n",
    "There are two fundamental loops in Python: `for` and `while`.\n",
    "\n",
    "A `for` loop is an easy way to implement an iterative loop, and it works by examining some sort of numerical counting and using a conditional statement to determine whether a conditional state is true. In English, a for loop asks the condition, “for as long as the condition here is true, continue to do the loop”. Consider the following example."
   ]
  },
  {
   "cell_type": "code",
   "execution_count": null,
   "metadata": {},
   "outputs": [],
   "source": [
    "# RUNNABLE\n",
    "for a in range(5):\n",
    "    print(a)"
   ]
  },
  {
   "cell_type": "markdown",
   "metadata": {},
   "source": [
    "This loop is declaring a variable `a`. By default, if a variable is not initialized, Python will auto-initialize the variable to be an integer `0`. In the conditional statement, we’re asking Python whether the iterator, `a`, is within the range of numbers from `[0,5]`. If it is, we should print `a`. If it’s not, then we do nothing. Python’s default behavior is to auto-increment the iterating variable each time it runs the code in the loop. In this example, each time the condition in the loop is met and the loop runs, the value of `a` increases by one.\n",
    "\n",
    "If we look at the output of this program, it shows up as the following.\n",
    "\n",
    "```\n",
    "0\n",
    "1\n",
    "2\n",
    "3\n",
    "4\n",
    "```\n",
    "\n",
    "You’ll notice that there are five numbers, but they start as 0. Why? Remember that our for loop looks at the iteration of the variable, starting at whatever value the iterating variable was initialized at. The variable `a` was initialized at 0, so the for loop starts at 0.\n",
    "\n",
    "So why does the loop not include 5? Remember that a for loop only checks if the condition inside of the conditional statement is true. When we get to 5, the statement is no longer true; 5 is not between 0 and 5, since it the upper bound. Therefore, Python will break the loop and continue.\n",
    "\n",
    "We can also define a more specific range of variables. Consider the following example."
   ]
  },
  {
   "cell_type": "code",
   "execution_count": null,
   "metadata": {},
   "outputs": [],
   "source": [
    "# RUNNABLE\n",
    "d = 2\n",
    "for d in range(2,9):\n",
    "  print(d)"
   ]
  },
  {
   "cell_type": "markdown",
   "metadata": {},
   "source": [
    "In this example, we’re declaring an integer variable `d` and initializing it to be 2. Then, in our loop, we’re iterating from 2 to 9. \n",
    "\n",
    "Be careful to not confuse the condition with the loop, though. It is possible to put a boolean condition in that continues when the boolean is false. Remember that the loop looks at whether the condition itself is true, not the state of the condition. For example, look at the following code."
   ]
  },
  {
   "cell_type": "code",
   "execution_count": null,
   "metadata": {},
   "outputs": [],
   "source": [
    "# RUNNABLE\n",
    "varsityAthlete = false\n",
    "for varsityAthlete == false:\n",
    "  print('not a varsity athlete')\n",
    "  varsityAthlete = true\n",
    "  print('condition changed')"
   ]
  },
  {
   "cell_type": "markdown",
   "metadata": {},
   "source": [
    "In our example, `varsityAthlete` is a boolean variable, initialized to be false, but the condition of our conditional statement is true, therefore the code inside of the loop runs.\n",
    "\n",
    "There is one final way to control the logic of your loops, `continue` and `break`. `break` will immediately break out of the loop and resume the program wherever the program continues after the loop, procedurally. It is an important tool in the developer’s toolkit, but can be difficult to diagnose issues with. When debugging, be sure to put a `print()` statement just before you break so that you can determine whether your program is crashing or whether it’s breaking deliberately.\n",
    "\n",
    "The `continue` statement is of debatable importance, and some developers swear to never use it. A `continue` statement will not consider if something is a nested loop, instead allowing the program to recurse, if applicable. You should ask your instructor whether you should or should not use the continue statement.\n",
    "\n",
    "For an example of using continue statements, consider the following code."
   ]
  },
  {
   "cell_type": "code",
   "execution_count": null,
   "metadata": {},
   "outputs": [],
   "source": [
    "# RUNNABLE\n",
    "for testWord in words:\n",
    "    if len(testWord) < len(longestAcceptableWord):\n",
    "      continue\n",
    "    if badLetters.search(testWord):\n",
    "      continue"
   ]
  },
  {
   "cell_type": "markdown",
   "metadata": {},
   "source": [
    "Our loop is using `testWord` in the list of words as an iterator. Inside of the loop, we have two conditional `if` statements. If the first condition is satisfied, then we continue out of the loop. If the first and second conditions are both not satisfied, then we can run some specified action.\n",
    "\n",
    "Speaking of which, we can also use lists to iterate through a `for` loop, even if that list consists of strings. Instead of logically looking at the content of those strings, Python will just look at how many items there are in that string. Consider the puppies example from above."
   ]
  },
  {
   "cell_type": "code",
   "execution_count": null,
   "metadata": {},
   "outputs": [],
   "source": [
    "# RUNNABLE\n",
    "puppyBreeds = [\"doberman\", \"pug\", \"golden lab\"]\n",
    "puppyWeights = [5, 3, 3]\n",
    "puppyTemperments = [3.22, 4, 5.5]\n",
    "\n",
    "for x in puppyBreeds:\n",
    "  print(x)\n",
    "for y in puppyWeights:\n",
    "  print(y)\n",
    "for z in puppyTemperments:\n",
    "  print(z)"
   ]
  },
  {
   "cell_type": "markdown",
   "metadata": {},
   "source": [
    "We would expect this program to print the following.\n",
    "\n",
    "```\n",
    "doberman\n",
    "pug\n",
    "golden lab\n",
    "5\n",
    "3\n",
    "3\n",
    "3.22\n",
    "4\n",
    "5.5\n",
    "```\n",
    "\n",
    "Logically speaking, the for loop is asking the question, “is there another item in this list for me to go through?” In our puppies example, since there were three puppy breeds to go through, we get to iterate through the loop three times. If we had five items in our list, we would iterate five times, as shown here."
   ]
  },
  {
   "cell_type": "code",
   "execution_count": 1,
   "metadata": {},
   "outputs": [
    {
     "name": "stdout",
     "output_type": "stream",
     "text": [
      "Mr. Mistoffelees\n",
      "Demeter\n",
      "Macavity\n",
      "Skimbleshanks\n",
      "Rum Tum Tugger\n"
     ]
    }
   ],
   "source": [
    "# RUNNABLE\n",
    "jellicleCats = [\"Mr. Mistoffelees\", \"Demeter\", \"Macavity\", \"Skimbleshanks\", \"Rum Tum Tugger\"]\n",
    "for x in jellicleCats:\n",
    "  print(x)"
   ]
  },
  {
   "cell_type": "markdown",
   "metadata": {},
   "source": [
    "As you would expect, this prints out the following.\n",
    "\n",
    "```\n",
    "Mr. Mistoffelees\n",
    "Demeter\n",
    "Macavity\n",
    "Skimbleshanks\n",
    "Rum Tum Tugger\n",
    "```\n",
    "\n",
    "The `for` loop is only one kind of loop! There’s also `while` loops. The ideas behind these loops are similar, but their execution is a little bit different.\n",
    "\n",
    "A while loop waits for a condition to be broken. For example, consider the following."
   ]
  },
  {
   "cell_type": "code",
   "execution_count": null,
   "metadata": {},
   "outputs": [],
   "source": [
    "# RUNNABLE\n",
    "varsityAthlete = True\n",
    "while varsityAthlete == True:\n",
    "  status = raw_input('Are you a varsity athlete? Type yes or no: ')\n",
    "  if status == yes:\n",
    "    varsityAthlete = True\n",
    "  if status == no:\n",
    "    varsityAthlete = False"
   ]
  },
  {
   "cell_type": "markdown",
   "metadata": {},
   "source": [
    "In this example, this (somewhat silly) program asks the user whether they are a varsity athlete. If they answer “yes,” then the program will re-fill the variable varsityAthlete with True. If they answer “no,” then varsityAthlete is False, the loop condition is broken, and the loop and script ends, since there’s nothing after the loop.\n",
    "\n",
    "`for` loops tend to be much more powerful and versatile compared to while loops, so you’ll rarely see while loops compared to `for` loops."
   ]
  },
  {
   "cell_type": "markdown",
   "metadata": {},
   "source": [
    "# 6. Arrays\n",
    "\n",
    "We covered the topic of lists in section 2, but in case you need a refresher, we can declare a list like shown in the following example."
   ]
  },
  {
   "cell_type": "code",
   "execution_count": 80,
   "metadata": {},
   "outputs": [
    {
     "name": "stdout",
     "output_type": "stream",
     "text": [
      "['Lewis', 'Gund', 'Norton', 'Mather', 'McBride', 'Watson', 'NCAs', 'New Apts', 'Leonard', 'Hanna', 'Old Kenyon', 'Tafts']\n"
     ]
    }
   ],
   "source": [
    "# RUNNABLE\n",
    "residenceHalls = [\"Lewis\", \"Gund\", \"Norton\", \"Mather\", \"McBride\", \"Watson\", \"NCAs\", \"New Apts\", \"Leonard\", \"Hanna\", \"Old Kenyon\", \"Tafts\"]\n",
    "print(residenceHalls)"
   ]
  },
  {
   "cell_type": "markdown",
   "metadata": {},
   "source": [
    "In this declaration, we’re filling the list residenceHalls with the names of the residence halls at Kenyon College.\n",
    "\n",
    "Broadly speaking, a list is a type of array. You can think of arrays as tables in a spreadsheet. A list is a specific type of array, a one-dimensional array, or a table with only one row, and which stores only one type of data. What if we wanted to store more data, like another attribute? What if we wanted our single-row table to look more like a spreadsheet? Well, we can declare something called a two-dimensional array or a two-dimensional list. Take a look at the following code."
   ]
  },
  {
   "cell_type": "code",
   "execution_count": 81,
   "metadata": {},
   "outputs": [
    {
     "name": "stdout",
     "output_type": "stream",
     "text": [
      "[['Lewis', 'Gund', 'Norton', 'Mather', 'McBride', 'Watson', 'NCAs', 'New Apts', 'Leonard', 'Hanna', 'Old Kenyon', 'Tafts'], ['fresh', 'fresh', 'fresh', 'fresh', 'fresh', 'upper', 'apartment', 'apartment', 'upper', 'upper', 'upper', 'apartment']]\n"
     ]
    }
   ],
   "source": [
    "# RUNNABLE\n",
    "residenceHalls = [[\"Lewis\", \"Gund\", \"Norton\", \"Mather\", \"McBride\", \"Watson\", \"NCAs\", \"New Apts\", \"Leonard\", \"Hanna\", \"Old Kenyon\", \"Tafts\"],[\"fresh\", \"fresh\", \"fresh\", \"fresh\", \"fresh\", \"upper\", \"apartment\", \"apartment\", \"upper\", \"upper\", \"upper\", \"apartment\"]]\n",
    "print(residenceHalls)"
   ]
  },
  {
   "cell_type": "markdown",
   "metadata": {},
   "source": [
    "In this example, we’re still defining the names of residence halls, but we’re assigning a second row of attributes, the type of residence hall. Python specifies that you enclose each dimension in square brackets `[]`.\n",
    "\n",
    "Now we can store data in arrays, but how do we get that data out? Let’s take a step back and look at one-dimensional arrays, or lists, first. Consider the puppy list from before."
   ]
  },
  {
   "cell_type": "code",
   "execution_count": 82,
   "metadata": {},
   "outputs": [],
   "source": [
    "# RUNNABLE\n",
    "puppyBreeds = [\"doberman\", \"pug\", \"golden lab\"]"
   ]
  },
  {
   "cell_type": "markdown",
   "metadata": {},
   "source": [
    "We’ve filled an array of three things named `puppyBreeds`, but up to this point, we’ve only been able to put data in, not get data out.\n",
    "\n",
    "Python allows us to extract data from our array according to the index of the entry. The index is an imaginary row in our imaginary table, and it specifies the column number in our spreadsheet analogy. Indices always start at 0, not 1. We can tell Python to print a certain object at a certain index. Consider the following example."
   ]
  },
  {
   "cell_type": "code",
   "execution_count": 83,
   "metadata": {},
   "outputs": [
    {
     "name": "stdout",
     "output_type": "stream",
     "text": [
      "doberman\n"
     ]
    }
   ],
   "source": [
    "# RUNNABLE\n",
    "puppyBreeds = [\"doberman\", \"pug\", \"golden lab\"]\n",
    "print(puppyBreeds[0])"
   ]
  },
  {
   "cell_type": "markdown",
   "metadata": {},
   "source": [
    "In this example, our expected output is the following.\n",
    "\n",
    "```\n",
    "doberman\n",
    "```\n",
    "\n",
    "We can also extract the length of a list, using the `len()` function, which we can then use to iterate. The `len()` function always returns an integer. Consider the following code."
   ]
  },
  {
   "cell_type": "code",
   "execution_count": 84,
   "metadata": {},
   "outputs": [
    {
     "name": "stdout",
     "output_type": "stream",
     "text": [
      "doberman\n",
      "pug\n",
      "golden lab\n"
     ]
    }
   ],
   "source": [
    "# RUNNABLE\n",
    "for i in range(len(puppyBreeds)):\n",
    "  print(puppyBreeds[i])"
   ]
  },
  {
   "cell_type": "markdown",
   "metadata": {},
   "source": [
    "Our expected output is the following.\n",
    "\n",
    "```\n",
    "doberman\n",
    "pug\n",
    "golden lab\n",
    "```\n",
    "\n",
    "Since there are three entries, our loop cycles through three times, and we get three outputs.\n",
    "\n",
    "It is also possible to append an existing list. Take a look at the following code."
   ]
  },
  {
   "cell_type": "code",
   "execution_count": 1,
   "metadata": {},
   "outputs": [
    {
     "name": "stdout",
     "output_type": "stream",
     "text": [
      "doberman\n",
      "pomeranian\n"
     ]
    }
   ],
   "source": [
    "# RUNNABLE\n",
    "puppyBreeds = [\"doberman\", \"pug\", \"golden lab\"]\n",
    "print(puppyBreeds[0])\n",
    "puppyBreeds[0] = \"pomeranian\"\n",
    "print(puppyBreeds[0])"
   ]
  },
  {
   "cell_type": "markdown",
   "metadata": {},
   "source": [
    "Our expected output is the following.\n",
    "\n",
    "```\n",
    "doberman\n",
    "pomeranian\n",
    "```\n",
    "\n",
    "We’ve appended our 0th entry in the list to be a pomeranian, instead of a doberman. Even though we’re using the same print on the same index, we should get two different outputs.\n",
    "\n",
    "Now, let’s take it back to two-dimensional arrays. Consider the array `residenceHalls` that we declared above to be already declared in the following code."
   ]
  },
  {
   "cell_type": "code",
   "execution_count": 86,
   "metadata": {},
   "outputs": [
    {
     "name": "stdout",
     "output_type": "stream",
     "text": [
      "['Lewis', 'Gund', 'Norton', 'Mather', 'McBride', 'Watson', 'NCAs', 'New Apts', 'Leonard', 'Hanna', 'Old Kenyon', 'Tafts']\n"
     ]
    }
   ],
   "source": [
    "# RUNNABLE\n",
    "print(residenceHalls[0])"
   ]
  },
  {
   "cell_type": "markdown",
   "metadata": {},
   "source": [
    "You might think that this would print the first entry of both lists, lewis and fresh, but it doesn’t. Rather, Python will treat the array with an index of 2 entries, and will print the entire first list, square brackets and all, and separated by the comma.\n",
    "\n",
    "```\n",
    "[\"Lewis\", \"Gund\", \"Norton\", \"Mather\", \"McBride\", \"Watson\", \"NCAs\", \"New Apts\", \"Leonard\", \"Hanna\", \"Old Kenyon\", \"Tafts\"]\n",
    "```\n",
    "\n",
    "The most logical way to separate this would be to put each array component into another list."
   ]
  },
  {
   "cell_type": "code",
   "execution_count": 3,
   "metadata": {},
   "outputs": [
    {
     "name": "stdout",
     "output_type": "stream",
     "text": [
      "Lewis\n",
      "fresh\n"
     ]
    }
   ],
   "source": [
    "# RUNNABLE\n",
    "residenceHalls = [[\"Lewis\", \"Gund\", \"Norton\", \"Mather\", \"McBride\", \"Watson\", \"NCAs\", \"New Apts\", \"Leonard\", \"Hanna\", \"Old Kenyon\", \"Tafts\"],[\"fresh\", \"fresh\", \"fresh\", \"fresh\", \"fresh\", \"upper\", \"apartment\", \"apartment\", \"upper\", \"upper\", \"upper\", \"apartment\"]]\n",
    "hallNames = residenceHalls[0]\n",
    "hallTypes = residenceHalls[1]\n",
    "print(hallNames[0])\n",
    "print(hallTypes[0])"
   ]
  },
  {
   "cell_type": "markdown",
   "metadata": {},
   "source": [
    "The expected output of this should be the following.\n",
    "\n",
    "```\n",
    "Lewis\n",
    "fresh\n",
    "```\n",
    "\n",
    "Like in a one dimensional list, we can iterate through this using loops."
   ]
  },
  {
   "cell_type": "code",
   "execution_count": 87,
   "metadata": {
    "scrolled": false
   },
   "outputs": [
    {
     "name": "stdout",
     "output_type": "stream",
     "text": [
      "Lewis\n",
      "Gund\n",
      "Norton\n",
      "Mather\n",
      "McBride\n",
      "Watson\n",
      "NCAs\n",
      "New Apts\n",
      "Leonard\n",
      "Hanna\n",
      "Old Kenyon\n",
      "Tafts\n"
     ]
    }
   ],
   "source": [
    "# RUNNABLE\n",
    "residenceHalls = [[\"Lewis\", \"Gund\", \"Norton\", \"Mather\", \"McBride\", \"Watson\", \"NCAs\", \"New Apts\", \"Leonard\", \"Hanna\", \"Old Kenyon\", \"Tafts\"],[\"fresh\", \"fresh\", \"fresh\", \"fresh\", \"fresh\", \"upper\", \"apartment\", \"apartment\", \"upper\", \"upper\", \"upper\", \"apartment\"]]\n",
    "hallNames = residenceHalls[0]\n",
    "hallTypes = residenceHalls[1]\n",
    "for i in range(len(hallNames)):\n",
    "  print(hallNames[i])"
   ]
  },
  {
   "cell_type": "markdown",
   "metadata": {},
   "source": [
    "Python is also smart enough to know that if you change the value of something inside an array, that it should also change it in everything up the tree. For example, if I changed `hallType[8]`, Leonard, to `“fresh”`, not only would it be represented as `“fresh”` in `hallTypes`, but also in `residenceHalls`."
   ]
  },
  {
   "cell_type": "markdown",
   "metadata": {},
   "source": [
    "# 7. Sets\n",
    "\n",
    "Python sets are a data structure equivalent to sets in mathematics. It may consist of various elements, but the order of elements in a set is undefined. You can add or delete elements of a set. you can iterate the elements of the set, you can perform standard operations on sets (union, intersection, difference).\n",
    "\n",
    "We define sets in Python similar to how we define single-dimension arrays. Consider the following example."
   ]
  },
  {
   "cell_type": "code",
   "execution_count": 5,
   "metadata": {},
   "outputs": [
    {
     "name": "stdout",
     "output_type": "stream",
     "text": [
      "{'s', 'm', 'i', 'p', 'c', 'o'}\n"
     ]
    }
   ],
   "source": [
    "# RUNNABLE\n",
    "A = set('compsci')\n",
    "print(A)"
   ]
  },
  {
   "cell_type": "markdown",
   "metadata": {},
   "source": [
    "This should print something like the following.\n",
    "\n",
    "```\n",
    "{'s', 'm', 'i', 'p', 'c', 'o'}\n",
    "```\n",
    "\n",
    "We can also use a for loop to iterate over the elements in a set. Consider the following example."
   ]
  },
  {
   "cell_type": "code",
   "execution_count": 6,
   "metadata": {},
   "outputs": [
    {
     "name": "stdout",
     "output_type": "stream",
     "text": [
      "496\n",
      "28\n",
      "6\n",
      "8128\n"
     ]
    }
   ],
   "source": [
    "# RUNNABLE\n",
    "perfect = {6, 28, 496, 8128}\n",
    "for j in perfect:\n",
    "    print(j)"
   ]
  },
  {
   "cell_type": "markdown",
   "metadata": {},
   "source": [
    "We might get the following output, though this might differ based on your Python interpreter. Again, sets aren’t picky about the order that they’re in.\n",
    "\n",
    "```\n",
    "496\n",
    "28\n",
    "6\n",
    "8128\n",
    "```\n",
    "\n",
    "The `len()` function also works on sets. Consider the following code."
   ]
  },
  {
   "cell_type": "code",
   "execution_count": 7,
   "metadata": {},
   "outputs": [
    {
     "name": "stdout",
     "output_type": "stream",
     "text": [
      "496\n",
      "28\n",
      "6\n",
      "8128\n",
      "4\n"
     ]
    }
   ],
   "source": [
    "# RUNNABLE\n",
    "perfect = {6, 28, 496, 8128}\n",
    "for j in perfect:\n",
    "    print(j)\n",
    "print(len(perfect))"
   ]
  },
  {
   "cell_type": "markdown",
   "metadata": {},
   "source": [
    "This might output the following.\n",
    "\n",
    "```\n",
    "496\n",
    "28\n",
    "6\n",
    "8128\n",
    "4\n",
    "```\n",
    "\n",
    "For more details on the operations that can be carried out on sets, such as unions or intersections, I encourage you to view the Python documentation. This is beyond the scope of this text."
   ]
  },
  {
   "cell_type": "markdown",
   "metadata": {},
   "source": [
    "# 8. Functions and Classes\n",
    "\n",
    "What if you had a set of ten lockers, and you wanted to assign some arbitrary value to each of those lockers, then print that value? Well, you could do this."
   ]
  },
  {
   "cell_type": "code",
   "execution_count": 10,
   "metadata": {},
   "outputs": [
    {
     "name": "stdout",
     "output_type": "stream",
     "text": [
      "spanish\n",
      "drew\n",
      "31.8\n",
      "english\n",
      "caleb\n",
      "3.37\n",
      "german\n",
      "sam\n",
      "3.11\n",
      "french\n",
      "sarah\n",
      "6.43\n",
      "german\n",
      "elliot\n",
      "5\n",
      "japanese\n",
      "nicho\n",
      "7.63\n",
      "dutch\n",
      "will\n",
      "3.14\n",
      "french\n",
      "lauren\n",
      "13.58\n",
      "english\n",
      "james\n",
      "1.393\n",
      "spanish\n",
      "bryce\n",
      "11.33\n"
     ]
    }
   ],
   "source": [
    "# RUNNABLE\n",
    "locker0lanugage = 'spanish'\n",
    "locker0owner = 'drew'\n",
    "locker0value = 31.8\n",
    "locker1language = 'english'\n",
    "locker1owner = 'caleb'\n",
    "locker1value = 3.37\n",
    "locker2language = 'german'\n",
    "locker2owner = 'sam'\n",
    "locker2value = 3.11\n",
    "locker3language = 'french'\n",
    "locker3owner = 'sarah'\n",
    "locker3value = 6.43\n",
    "locker4language = 'german'\n",
    "locker4owner = 'elliot'\n",
    "locker4value = 5\n",
    "locker5language = 'japanese'\n",
    "locker5owner = 'nicho'\n",
    "locker5value = 7.63\n",
    "locker6language = 'dutch'\n",
    "locker6owner = 'will'\n",
    "locker6value = 3.14\n",
    "locker7language = 'french'\n",
    "locker7owner = 'lauren'\n",
    "locker7value = 13.58\n",
    "locker8language = 'english'\n",
    "locker8owner = 'james'\n",
    "locker8value = 1.393\n",
    "locker9language = 'spanish'\n",
    "locker9owner = 'bryce'\n",
    "locker9value = 11.33\n",
    "print(locker0lanugage)\n",
    "print(locker0owner)\n",
    "print(locker0value)\n",
    "print(locker1language)\n",
    "print(locker1owner)\n",
    "print(locker1value)\n",
    "print(locker2language)\n",
    "print(locker2owner)\n",
    "print(locker2value)\n",
    "print(locker3language)\n",
    "print(locker3owner)\n",
    "print(locker3value)\n",
    "print(locker4language)\n",
    "print(locker4owner)\n",
    "print(locker4value)\n",
    "print(locker5language)\n",
    "print(locker5owner)\n",
    "print(locker5value)\n",
    "print(locker6language)\n",
    "print(locker6owner)\n",
    "print(locker6value)\n",
    "print(locker7language)\n",
    "print(locker7owner)\n",
    "print(locker7value)\n",
    "print(locker8language)\n",
    "print(locker8owner)\n",
    "print(locker8value)\n",
    "print(locker9language)\n",
    "print(locker9owner)\n",
    "print(locker9value)"
   ]
  },
  {
   "cell_type": "markdown",
   "metadata": {},
   "source": [
    "However, you might notice that this seems really, really tedious. You’re essentially typing the same frame of code a bunch of times. If only there were some easier way to code a repetitive action!\n",
    "\n",
    "However, you might notice that this seems really, really tedious. You’re essentially typing the same frame of code a bunch of times. If only there were some easier way to code a repetitive action!\n",
    "\n",
    "## Functions\n",
    "\n",
    "Well, as it turns out, Python does have such a way to do so: functions. A function in Python is just like a function in algebra. Let’s take the example `y=mx+b`, a generic formula for a straight line.\n",
    "\n",
    "Like above, if I wanted to calculate the Y value for 10 different slope/x/y-intercept combinations, I could do the following:"
   ]
  },
  {
   "cell_type": "code",
   "execution_count": 14,
   "metadata": {},
   "outputs": [
    {
     "name": "stdout",
     "output_type": "stream",
     "text": [
      "112\n",
      "26\n",
      "29\n",
      "14\n",
      "18\n",
      "20\n",
      "11\n",
      "24\n",
      "56\n",
      "119\n"
     ]
    }
   ],
   "source": [
    "# RUNNABLE\n",
    "y0 = 7*4*4\n",
    "y1 = 3*6+8\n",
    "y2 = 3*9+2\n",
    "y3 = 6*2+2\n",
    "y4 = 5*3+3\n",
    "y5 = 3*5+5\n",
    "y6 = 1*3+8\n",
    "y7 = 3*7+3\n",
    "y8 = 10*5+6\n",
    "y9 = 9*13+2\n",
    "\n",
    "print(y0)\n",
    "print(y1)\n",
    "print(y2)\n",
    "print(y3)\n",
    "print(y4)\n",
    "print(y5)\n",
    "print(y6)\n",
    "print(y7)\n",
    "print(y8)\n",
    "print(y9)"
   ]
  },
  {
   "cell_type": "markdown",
   "metadata": {},
   "source": [
    "Or, I could write a function that takes in three arguments, or variables that a function might use, and spit out some answers."
   ]
  },
  {
   "cell_type": "code",
   "execution_count": 16,
   "metadata": {},
   "outputs": [
    {
     "name": "stdout",
     "output_type": "stream",
     "text": [
      "32\n",
      "26\n",
      "29\n",
      "14\n",
      "18\n",
      "20\n",
      "11\n",
      "24\n",
      "56\n",
      "119\n"
     ]
    }
   ],
   "source": [
    "# RUNNABLE\n",
    "def linear(m, x, b):\n",
    "    result = m*x+b\n",
    "    return result\n",
    "print(linear(7, 4, 4))\n",
    "print(linear(3, 6, 8))\n",
    "print(linear(3, 9, 2))\n",
    "print(linear(6, 2, 2))\n",
    "print(linear(5, 3, 3))\n",
    "print(linear(3, 5, 5))\n",
    "print(linear(1, 3, 8))\n",
    "print(linear(3, 7, 3))\n",
    "print(linear(10, 5, 6))\n",
    "print(linear(9, 13, 2))\n"
   ]
  },
  {
   "cell_type": "markdown",
   "metadata": {},
   "source": [
    "In the above code, I’m declaring a function called `linear()`. `linear()` does the repetitive math and spits out some response. As a result, I can write a lot less code. Let’s break down each line of the function.\n",
    "\n",
    "The first line of my function is called the function declaration. The declaration always begins with `def`, for define. This tells Python that you’re about to create a function. Next, we have the name of the function. This is typically named according to what the function does, and, by convention, is typically written in `snake_case`. Finally, we have arguments that get passed into the function. These are the inputs that our function will manipulate. In this example, my function name is linear, and my arguments are m, x, and b.\n",
    "\n",
    "The next line of the function is indented. This lets Python know that this material is inside of the function, and the enclosed code should be run when the function is called. Inside of the function, we can do anything we want. In this example, I’m doing some arithmetic: `m*x+b`. Then, I store the result of that in a new variable result.\n",
    "\n",
    "Finally, I close my function with a `return`. The last line that is executed in your function should be a `return`. You can only return one thing, by default. You can return lots of different things: a boolean, a list, an array, a string, even a variable. In the example above, I am returning the variable `result`.\n",
    "\n",
    "My function need not take in any arguments. Consider the following code."
   ]
  },
  {
   "cell_type": "code",
   "execution_count": 88,
   "metadata": {},
   "outputs": [],
   "source": [
    "# RUNNABLE\n",
    "def printaturtle():\n",
    "    print('     _____     ____')\n",
    "    print(' /      \\  |  o | ')\n",
    "    print('|        |/ ___\\| ')\n",
    "    print('|_________/     ')\n",
    "    print('|_|_| |_|_|')\n",
    "    return 0"
   ]
  },
  {
   "cell_type": "markdown",
   "metadata": {},
   "source": [
    "When I call this function, I cannot pass in any other arguments. Consider the following."
   ]
  },
  {
   "cell_type": "code",
   "execution_count": 89,
   "metadata": {},
   "outputs": [
    {
     "ename": "TypeError",
     "evalue": "printaturtle() takes 0 positional arguments but 1 was given",
     "output_type": "error",
     "traceback": [
      "\u001b[1;31m---------------------------------------------------------------------------\u001b[0m",
      "\u001b[1;31mTypeError\u001b[0m                                 Traceback (most recent call last)",
      "\u001b[1;32m<ipython-input-89-602c9749a226>\u001b[0m in \u001b[0;36m<module>\u001b[1;34m\u001b[0m\n\u001b[0;32m      1\u001b[0m \u001b[1;31m# NOT RUNNABLE\u001b[0m\u001b[1;33m\u001b[0m\u001b[1;33m\u001b[0m\u001b[1;33m\u001b[0m\u001b[0m\n\u001b[1;32m----> 2\u001b[1;33m \u001b[0mprintaturtle\u001b[0m\u001b[1;33m(\u001b[0m\u001b[1;34m'turtle'\u001b[0m\u001b[1;33m)\u001b[0m\u001b[1;33m\u001b[0m\u001b[1;33m\u001b[0m\u001b[0m\n\u001b[0m",
      "\u001b[1;31mTypeError\u001b[0m: printaturtle() takes 0 positional arguments but 1 was given"
     ]
    }
   ],
   "source": [
    "# RUNNABLE, GIVES ERROR ON PURPOSE\n",
    "printaturtle('turtle')"
   ]
  },
  {
   "cell_type": "markdown",
   "metadata": {},
   "source": [
    "This is syntactically incorrect."
   ]
  },
  {
   "cell_type": "code",
   "execution_count": 90,
   "metadata": {},
   "outputs": [
    {
     "name": "stdout",
     "output_type": "stream",
     "text": [
      "     _____     ____\n",
      " /      \\  |  o | \n",
      "|        |/ ___\\| \n",
      "|_________/     \n",
      "|_|_| |_|_|\n"
     ]
    },
    {
     "data": {
      "text/plain": [
       "0"
      ]
     },
     "execution_count": 90,
     "metadata": {},
     "output_type": "execute_result"
    }
   ],
   "source": [
    "# RUNNABLE\n",
    "printaturtle()"
   ]
  },
  {
   "cell_type": "markdown",
   "metadata": {},
   "source": [
    "This is the correct function call for creating an ASCII art turtle.\n",
    "\n",
    "I know I said that you can only return one thing from a function above, but that technically isn’t correct. Unlike algebra, you can actually return several things from a function or return nothing. For example, consider the following code."
   ]
  },
  {
   "cell_type": "code",
   "execution_count": 20,
   "metadata": {},
   "outputs": [],
   "source": [
    "# RUNNABLE\n",
    "def printaturtle():\n",
    "    print('     _____     ____')\n",
    "    print(' /      \\\\  |  o | ')\n",
    "    print('|        |/ ___\\\\| ')\n",
    "    print('|_________/     ')\n",
    "    print('|_|_| |_|_|')"
   ]
  },
  {
   "cell_type": "code",
   "execution_count": 21,
   "metadata": {},
   "outputs": [
    {
     "name": "stdout",
     "output_type": "stream",
     "text": [
      "     _____     ____\n",
      " /      \\  |  o | \n",
      "|        |/ ___\\| \n",
      "|_________/     \n",
      "|_|_| |_|_|\n"
     ]
    }
   ],
   "source": [
    "# RUNNABLE\n",
    "printaturtle()"
   ]
  },
  {
   "cell_type": "markdown",
   "metadata": {},
   "source": [
    "Even though I’m not returning anything, this is still syntactically correct for Python[^5] [^6]. When I call this function, Python will just do the things inside of the function declaration, then return a 0 to indicate that the function ran successfully[^7].\n",
    "\n",
    "Now, consider the following."
   ]
  },
  {
   "cell_type": "code",
   "execution_count": 23,
   "metadata": {},
   "outputs": [],
   "source": [
    "# RUNNABLE\n",
    "def planets():\n",
    "    return 'venus','jupiter'"
   ]
  },
  {
   "cell_type": "markdown",
   "metadata": {},
   "source": [
    "If I were to call this function, I cannot simply put the return contents of this function into one variable. This is syntactically incorrect. That is, consider the following code."
   ]
  },
  {
   "cell_type": "code",
   "execution_count": 28,
   "metadata": {},
   "outputs": [
    {
     "name": "stdout",
     "output_type": "stream",
     "text": [
      "('venus', 'jupiter')\n"
     ]
    }
   ],
   "source": [
    "# RUNNABLE\n",
    "favoriteplanet = ''\n",
    "def planets():\n",
    "    return'venus','jupiter'\n",
    "favoriteplanet = planets()\n",
    "print(favoriteplanet)"
   ]
  },
  {
   "cell_type": "markdown",
   "metadata": {},
   "source": [
    "This is *not* correct. The contents of the return of `planets()` has two values, but `favoriteplanet` is defined as a primitive data type. Some interpreters will attempt to load the data into an array, others will return a type error.\n",
    "\n",
    "We can get around this with a cheeky trick. Consider the following."
   ]
  },
  {
   "cell_type": "code",
   "execution_count": 29,
   "metadata": {},
   "outputs": [
    {
     "name": "stdout",
     "output_type": "stream",
     "text": [
      "venus\n",
      "jupiter\n"
     ]
    }
   ],
   "source": [
    "# RUNNABLE\n",
    "def planets():\n",
    "    return 'venus','jupiter'\n",
    "firstfav, secondfav = planets()\n",
    "print(firstfav)\n",
    "print(secondfav)"
   ]
  },
  {
   "cell_type": "markdown",
   "metadata": {},
   "source": [
    "In this case, since `venus` is the first value that’s being returned, it will be placed inside of `firstfav`. `jupiter` then gets placed in `secondfav`. This works because there are exactly as many elements in the contents of return as there are variables to put those contents into. Remember, Python does not throw away data. It would rather throw an exception and halt execution than throw away data.\n",
    "\n",
    "## Classes\n",
    "\n",
    "We can also group functions together. Groups of functions are called classes. Right now, the difference between piling 50 functions at the beginning of your program and neatly breaking your functions into respective classes seems somewhat arbitrary, but I promise there’s a reason.\n",
    "\n",
    "Let’s say I had a bunch of functions: `calculate_grade()`, `list_students()`, `delete_student()`,` breakfast_menu()`, `lunch_menu()`, and `account_money()`. I could break these into their own classes. Grades ought to go together, so we might put `calculate_grade()`, `list_students()`, and `delete_student()` in their own class called `grades`. Likewise, we could put `breakfast_menu()`, `lunch_menu()`, and `account_money()` into their own class called `food`. Consider the following code."
   ]
  },
  {
   "cell_type": "code",
   "execution_count": 37,
   "metadata": {},
   "outputs": [],
   "source": [
    "# NOT RUNNABLE\n",
    "class grades:\n",
    "    def calculate_grade(name):\n",
    "        grade = database_access(name)\n",
    "        return grade\n",
    "    def list_students():\n",
    "        students = []\n",
    "        students = database_access_names()\n",
    "        return students\n",
    "    def delete_student():\n",
    "        remove_student(name)\n",
    "        return 0\n",
    "class food:\n",
    "    def breakfast_menu(date):\n",
    "        return(breakmenu(date))\n",
    "    def lunch_menu(date):\n",
    "        return(lunchmenu(date))\n",
    "    def account_money(name):\n",
    "        return(acct_money_access(name))"
   ]
  },
  {
   "cell_type": "markdown",
   "metadata": {},
   "source": [
    "While this program may seem trivial, you can see how grouping our functions could make things neater.\n",
    "\n",
    "Now, let’s imagine that you had a complex program that stored some sensitive information, like grades. You don’t want your entire program to be able to access memory that contains the values of certain variables, like what grades belong to which students. So far, we’ve been able to place data into buckets, but we haven’t learned how to put a lid or privacy screen on the bucket.\n",
    "\n",
    "As it turns out, Python has a way of keeping data private. Just like how we have data types, such as ints, floats, and strings, we also have security types. Python has three distinct security types: public, private, and protected. A public variable can be accessed anywhere in the program. As long as you have the address of that variable, you can grab its contents. This is convenient, but not secure. You can protect an instance variable by adding a `_` (single underscore) to the beginning of the variable. This effectively prevents the variable from being accessed, unless it is within a sub-class. Lastly, you can add a double underscore `__` to make the variable private. This tells Python to keep this data private at all costs. Any attempt to touch the data by an unauthorized force results in an AttributeError. Consider the following code."
   ]
  },
  {
   "cell_type": "code",
   "execution_count": 33,
   "metadata": {},
   "outputs": [],
   "source": [
    "# NOT RUNNABLE\n",
    "class student:\n",
    "    def stugrades(database, name):\n",
    "        db = create_database_conn(database)\n",
    "        grade = get_grade(db, name)\n",
    "        db_close(db)\n",
    "        return(grade)"
   ]
  },
  {
   "cell_type": "markdown",
   "metadata": {},
   "source": [
    "In this arrangement, anything can see the database, the name, and the grade. That’s not very secure. Alternatively, we could try the following."
   ]
  },
  {
   "cell_type": "code",
   "execution_count": 35,
   "metadata": {},
   "outputs": [],
   "source": [
    "# NOT RUNNABLE\n",
    "class student:\n",
    "    def stugrades(database, name):\n",
    "        _db = create_database_conn(database)\n",
    "        _grade = get_grade(db, name)\n",
    "        db_close(db)\n",
    "        return(grade)"
   ]
  },
  {
   "cell_type": "markdown",
   "metadata": {},
   "source": [
    "Now, if I tried to access the data for the database connection outside of this class, Python would not let me access that information. Similarly, consider the following code."
   ]
  },
  {
   "cell_type": "code",
   "execution_count": 38,
   "metadata": {},
   "outputs": [],
   "source": [
    "# NOT RUNNABLE\n",
    "class student:\n",
    "    def stugrades(database, name):\n",
    "        __db = create_database_conn(database)\n",
    "        __grade = get_grade(db, name)\n",
    "        db_close(db)\n",
    "        return(grade)"
   ]
  },
  {
   "cell_type": "markdown",
   "metadata": {},
   "source": [
    "The double underscores mean that any attempt to read the contents of those variables, even by other functions inside of the class are effectively shut down by a program termination. The specifics of how classes manage public, protected, and private data are beyond the scope of this text.\n",
    "\n",
    "Of note is, Python also supports self calls. Self calls are a little beyond the scope of this text.\n",
    "\n",
    "## Using External Modules\n",
    "\n",
    "No programmer is going to write all of their code by themselves. A lot of solutions already exist for some pretty significant problems. So instead, programmers use libraries. A library is a piece of software that is written by a very experienced programmer (or development team), then is rigorously tested and released for other programmers to use. Python calls its code libraries “modules,” and there are literally hundreds of thousands of modules available through two major package distributors: `pip`[^8] and `conda`[^9]. There are packages to do everything from display images to read and manipulate images, read CSVs and text files, perform computer vision tasks, parse webpages, and loads more!\n",
    "\n",
    "Some common packages include `math`, `pandas`, `numpy`, `scipy`, `tensorflow`, `Pillow`, `os`, `sys`, and `platform`, and they expand the functionality of base Python.\n",
    "\n",
    "It’s not hard to use an external package. Most Python consoles have the ability to take a command line input to install a package. This command typically looks like the following."
   ]
  },
  {
   "cell_type": "code",
   "execution_count": 39,
   "metadata": {},
   "outputs": [
    {
     "name": "stdout",
     "output_type": "stream",
     "text": [
      "Requirement already satisfied: tensorflow in c:\\users\\kim3\\anaconda3\\lib\\site-packages (2.3.1)\n",
      "Requirement already satisfied: wheel>=0.26 in c:\\users\\kim3\\anaconda3\\lib\\site-packages (from tensorflow) (0.34.2)\n",
      "Requirement already satisfied: absl-py>=0.7.0 in c:\\users\\kim3\\anaconda3\\lib\\site-packages (from tensorflow) (0.10.0)\n",
      "Requirement already satisfied: keras-preprocessing<1.2,>=1.1.1 in c:\\users\\kim3\\anaconda3\\lib\\site-packages (from tensorflow) (1.1.2)\n",
      "Requirement already satisfied: tensorflow-estimator<2.4.0,>=2.3.0 in c:\\users\\kim3\\anaconda3\\lib\\site-packages (from tensorflow) (2.3.0)\n",
      "Requirement already satisfied: protobuf>=3.9.2 in c:\\users\\kim3\\anaconda3\\lib\\site-packages (from tensorflow) (3.13.0)\n",
      "Requirement already satisfied: numpy<1.19.0,>=1.16.0 in c:\\users\\kim3\\anaconda3\\lib\\site-packages (from tensorflow) (1.18.5)\n",
      "Requirement already satisfied: google-pasta>=0.1.8 in c:\\users\\kim3\\anaconda3\\lib\\site-packages (from tensorflow) (0.2.0)\n",
      "Requirement already satisfied: opt-einsum>=2.3.2 in c:\\users\\kim3\\anaconda3\\lib\\site-packages (from tensorflow) (3.3.0)\n",
      "Requirement already satisfied: grpcio>=1.8.6 in c:\\users\\kim3\\anaconda3\\lib\\site-packages (from tensorflow) (1.32.0)\n",
      "Requirement already satisfied: tensorboard<3,>=2.3.0 in c:\\users\\kim3\\anaconda3\\lib\\site-packages (from tensorflow) (2.3.0)\n",
      "Requirement already satisfied: h5py<2.11.0,>=2.10.0 in c:\\users\\kim3\\anaconda3\\lib\\site-packages (from tensorflow) (2.10.0)\n",
      "Requirement already satisfied: termcolor>=1.1.0 in c:\\users\\kim3\\anaconda3\\lib\\site-packages (from tensorflow) (1.1.0)\n",
      "Requirement already satisfied: wrapt>=1.11.1 in c:\\users\\kim3\\anaconda3\\lib\\site-packages (from tensorflow) (1.11.2)\n",
      "Requirement already satisfied: six>=1.12.0 in c:\\users\\kim3\\anaconda3\\lib\\site-packages (from tensorflow) (1.15.0)\n",
      "Requirement already satisfied: astunparse==1.6.3 in c:\\users\\kim3\\anaconda3\\lib\\site-packages (from tensorflow) (1.6.3)\n",
      "Requirement already satisfied: gast==0.3.3 in c:\\users\\kim3\\anaconda3\\lib\\site-packages (from tensorflow) (0.3.3)\n",
      "Requirement already satisfied: setuptools in c:\\users\\kim3\\anaconda3\\lib\\site-packages (from protobuf>=3.9.2->tensorflow) (49.2.0.post20200714)\n",
      "Requirement already satisfied: tensorboard-plugin-wit>=1.6.0 in c:\\users\\kim3\\anaconda3\\lib\\site-packages (from tensorboard<3,>=2.3.0->tensorflow) (1.7.0)\n",
      "Requirement already satisfied: google-auth-oauthlib<0.5,>=0.4.1 in c:\\users\\kim3\\anaconda3\\lib\\site-packages (from tensorboard<3,>=2.3.0->tensorflow) (0.4.1)\n",
      "Requirement already satisfied: werkzeug>=0.11.15 in c:\\users\\kim3\\anaconda3\\lib\\site-packages (from tensorboard<3,>=2.3.0->tensorflow) (1.0.1)\n",
      "Requirement already satisfied: requests<3,>=2.21.0 in c:\\users\\kim3\\anaconda3\\lib\\site-packages (from tensorboard<3,>=2.3.0->tensorflow) (2.24.0)\n",
      "Requirement already satisfied: markdown>=2.6.8 in c:\\users\\kim3\\anaconda3\\lib\\site-packages (from tensorboard<3,>=2.3.0->tensorflow) (3.2.2)\n",
      "Requirement already satisfied: google-auth<2,>=1.6.3 in c:\\users\\kim3\\anaconda3\\lib\\site-packages (from tensorboard<3,>=2.3.0->tensorflow) (1.22.1)\n",
      "Requirement already satisfied: requests-oauthlib>=0.7.0 in c:\\users\\kim3\\anaconda3\\lib\\site-packages (from google-auth-oauthlib<0.5,>=0.4.1->tensorboard<3,>=2.3.0->tensorflow) (1.3.0)\n",
      "Requirement already satisfied: certifi>=2017.4.17 in c:\\users\\kim3\\anaconda3\\lib\\site-packages (from requests<3,>=2.21.0->tensorboard<3,>=2.3.0->tensorflow) (2020.6.20)\n",
      "Requirement already satisfied: chardet<4,>=3.0.2 in c:\\users\\kim3\\anaconda3\\lib\\site-packages (from requests<3,>=2.21.0->tensorboard<3,>=2.3.0->tensorflow) (3.0.4)\n",
      "Requirement already satisfied: urllib3!=1.25.0,!=1.25.1,<1.26,>=1.21.1 in c:\\users\\kim3\\anaconda3\\lib\\site-packages (from requests<3,>=2.21.0->tensorboard<3,>=2.3.0->tensorflow) (1.25.9)\n",
      "Requirement already satisfied: idna<3,>=2.5 in c:\\users\\kim3\\anaconda3\\lib\\site-packages (from requests<3,>=2.21.0->tensorboard<3,>=2.3.0->tensorflow) (2.10)\n",
      "Requirement already satisfied: pyasn1-modules>=0.2.1 in c:\\users\\kim3\\anaconda3\\lib\\site-packages (from google-auth<2,>=1.6.3->tensorboard<3,>=2.3.0->tensorflow) (0.2.8)\n",
      "Requirement already satisfied: cachetools<5.0,>=2.0.0 in c:\\users\\kim3\\anaconda3\\lib\\site-packages (from google-auth<2,>=1.6.3->tensorboard<3,>=2.3.0->tensorflow) (4.1.1)\n",
      "Requirement already satisfied: rsa<5,>=3.1.4; python_version >= \"3.5\" in c:\\users\\kim3\\anaconda3\\lib\\site-packages (from google-auth<2,>=1.6.3->tensorboard<3,>=2.3.0->tensorflow) (4.6)\n",
      "Requirement already satisfied: oauthlib>=3.0.0 in c:\\users\\kim3\\anaconda3\\lib\\site-packages (from requests-oauthlib>=0.7.0->google-auth-oauthlib<0.5,>=0.4.1->tensorboard<3,>=2.3.0->tensorflow) (3.1.0)\n",
      "Requirement already satisfied: pyasn1<0.5.0,>=0.4.6 in c:\\users\\kim3\\anaconda3\\lib\\site-packages (from pyasn1-modules>=0.2.1->google-auth<2,>=1.6.3->tensorboard<3,>=2.3.0->tensorflow) (0.4.8)\n",
      "Note: you may need to restart the kernel to use updated packages.\n"
     ]
    }
   ],
   "source": [
    "pip install tensorflow"
   ]
  },
  {
   "cell_type": "markdown",
   "metadata": {},
   "source": [
    "You can then use that package to gain access to the modules included. For example, you might install the math package, then use some function inside of the math package. However, to use a package, you must first import it into your Python script."
   ]
  },
  {
   "cell_type": "code",
   "execution_count": 40,
   "metadata": {},
   "outputs": [],
   "source": [
    "import tensorflow"
   ]
  },
  {
   "cell_type": "markdown",
   "metadata": {},
   "source": [
    "Python treats modules like classes. In reality, a module is just a wrapped class that’s delivered to your computer ready to go. You can call a function inside of a module, just like you’d call any other function in a class."
   ]
  },
  {
   "cell_type": "code",
   "execution_count": 41,
   "metadata": {},
   "outputs": [
    {
     "ename": "NameError",
     "evalue": "name 'argument1' is not defined",
     "output_type": "error",
     "traceback": [
      "\u001b[1;31m---------------------------------------------------------------------------\u001b[0m",
      "\u001b[1;31mNameError\u001b[0m                                 Traceback (most recent call last)",
      "\u001b[1;32m<ipython-input-41-b93182a57da2>\u001b[0m in \u001b[0;36m<module>\u001b[1;34m\u001b[0m\n\u001b[0;32m      1\u001b[0m \u001b[1;31m# NOT RUNNABLE\u001b[0m\u001b[1;33m\u001b[0m\u001b[1;33m\u001b[0m\u001b[1;33m\u001b[0m\u001b[0m\n\u001b[1;32m----> 2\u001b[1;33m \u001b[0mtensorflow\u001b[0m\u001b[1;33m.\u001b[0m\u001b[0mGraph\u001b[0m\u001b[1;33m(\u001b[0m\u001b[0margument1\u001b[0m\u001b[1;33m,\u001b[0m \u001b[0margument2\u001b[0m\u001b[1;33m)\u001b[0m\u001b[1;33m\u001b[0m\u001b[1;33m\u001b[0m\u001b[0m\n\u001b[0m",
      "\u001b[1;31mNameError\u001b[0m: name 'argument1' is not defined"
     ]
    }
   ],
   "source": [
    "# NOT RUNNABLE\n",
    "tensorflow.Graph(argument1, argument2)"
   ]
  },
  {
   "cell_type": "markdown",
   "metadata": {},
   "source": [
    "However, sometimes, we don’t want to type out the entire name of the code module, especially if we use it a lot. So, there is a way to abbreviate your package name when you import it."
   ]
  },
  {
   "cell_type": "code",
   "execution_count": 43,
   "metadata": {},
   "outputs": [],
   "source": [
    "import tensorflow as tf"
   ]
  },
  {
   "cell_type": "markdown",
   "metadata": {},
   "source": [
    "Now, my function call can be the following."
   ]
  },
  {
   "cell_type": "code",
   "execution_count": 44,
   "metadata": {},
   "outputs": [
    {
     "ename": "NameError",
     "evalue": "name 'argument1' is not defined",
     "output_type": "error",
     "traceback": [
      "\u001b[1;31m---------------------------------------------------------------------------\u001b[0m",
      "\u001b[1;31mNameError\u001b[0m                                 Traceback (most recent call last)",
      "\u001b[1;32m<ipython-input-44-ae0a798d3a8f>\u001b[0m in \u001b[0;36m<module>\u001b[1;34m\u001b[0m\n\u001b[1;32m----> 1\u001b[1;33m \u001b[0mtf\u001b[0m\u001b[1;33m.\u001b[0m\u001b[0mGraph\u001b[0m\u001b[1;33m(\u001b[0m\u001b[0margument1\u001b[0m\u001b[1;33m,\u001b[0m \u001b[0margument2\u001b[0m\u001b[1;33m)\u001b[0m\u001b[1;33m\u001b[0m\u001b[1;33m\u001b[0m\u001b[0m\n\u001b[0m",
      "\u001b[1;31mNameError\u001b[0m: name 'argument1' is not defined"
     ]
    }
   ],
   "source": [
    "tf.Graph(argument1, argument2)"
   ]
  },
  {
   "cell_type": "markdown",
   "metadata": {},
   "source": [
    "There are some established abbreviations for some Python packages. For example, pandas gets imported as pd, numpy gets imported as np, and tensorflow gets imported as tf. Most documentation gets written with these standard abbreviations, so you should use them whenever possible."
   ]
  },
  {
   "cell_type": "markdown",
   "metadata": {},
   "source": [
    "# 9. Exception Handling\n",
    "\n",
    "While you’re programming, things won’t go according to plan; that’s a given. However, a good programmer has a way of dealing with things when they go wrong. This concept is known as handling exceptions, and they’re a great way to program.\n",
    "\n",
    "Consider the following code."
   ]
  },
  {
   "cell_type": "code",
   "execution_count": 45,
   "metadata": {},
   "outputs": [
    {
     "ename": "TypeError",
     "evalue": "add() takes 2 positional arguments but 3 were given",
     "output_type": "error",
     "traceback": [
      "\u001b[1;31m---------------------------------------------------------------------------\u001b[0m",
      "\u001b[1;31mTypeError\u001b[0m                                 Traceback (most recent call last)",
      "\u001b[1;32m<ipython-input-45-c1f4f650f463>\u001b[0m in \u001b[0;36m<module>\u001b[1;34m\u001b[0m\n\u001b[0;32m      2\u001b[0m     \u001b[0mresult\u001b[0m \u001b[1;33m=\u001b[0m \u001b[0mnum1\u001b[0m \u001b[1;33m+\u001b[0m \u001b[0mnum2\u001b[0m\u001b[1;33m\u001b[0m\u001b[1;33m\u001b[0m\u001b[0m\n\u001b[0;32m      3\u001b[0m     \u001b[1;32mreturn\u001b[0m \u001b[0mresult\u001b[0m\u001b[1;33m\u001b[0m\u001b[1;33m\u001b[0m\u001b[0m\n\u001b[1;32m----> 4\u001b[1;33m \u001b[0madd\u001b[0m\u001b[1;33m(\u001b[0m\u001b[1;36m1\u001b[0m\u001b[1;33m,\u001b[0m \u001b[1;36m2\u001b[0m\u001b[1;33m,\u001b[0m \u001b[1;36m3\u001b[0m\u001b[1;33m)\u001b[0m\u001b[1;33m\u001b[0m\u001b[1;33m\u001b[0m\u001b[0m\n\u001b[0m",
      "\u001b[1;31mTypeError\u001b[0m: add() takes 2 positional arguments but 3 were given"
     ]
    }
   ],
   "source": [
    "# RUNNABLE, GIVES ERROR ON PURPOSE\n",
    "def add(num1, num2):\n",
    "    result = num1 + num2\n",
    "    return result\n",
    "add(1, 2, 3)"
   ]
  },
  {
   "cell_type": "markdown",
   "metadata": {},
   "source": [
    "What if my user put in a third argument? Well, the Python syntax has been broken and I end up with an error message. We can deal with this, though. Consider the following code."
   ]
  },
  {
   "cell_type": "code",
   "execution_count": 47,
   "metadata": {},
   "outputs": [
    {
     "name": "stdout",
     "output_type": "stream",
     "text": [
      "Something went wrong!\n"
     ]
    }
   ],
   "source": [
    "# RUNNABLE\n",
    "def add(num1, num2):\n",
    "    result = num1 + num2\n",
    "    return result\n",
    "try:\n",
    "    add(1, 2, 3)\n",
    "except:\n",
    "    print(\"Something went wrong!\")"
   ]
  },
  {
   "cell_type": "markdown",
   "metadata": {},
   "source": [
    "Observe how we’ve added two new blocks: a `try` and an `except`ion. Python will try to execute the code inside of the try block. If it cannot, then it will move onto the exception. \n",
    "\n",
    "In this example, I’ve had Python output a pretty vague error message: “Something went wrong!” This is great if I want to test a user’s input. For example, consider the following code."
   ]
  },
  {
   "cell_type": "code",
   "execution_count": 49,
   "metadata": {},
   "outputs": [
    {
     "name": "stdout",
     "output_type": "stream",
     "text": [
      "Input a number: 5.58\n",
      "Did you put in integers?\n"
     ]
    }
   ],
   "source": [
    "# RUNNABLE\n",
    "def add(num1, num2):\n",
    "    result = num1 + num2\n",
    "    return result\n",
    "try:\n",
    "    num1 = int(input(\"Input a number: \"))\n",
    "    num2 = int(input(\"Input another number: \"))\n",
    "    print(\"Result: \" + add(num1, num2))\n",
    "except:\n",
    "    print(\"Did you put in integers?\")"
   ]
  },
  {
   "cell_type": "markdown",
   "metadata": {},
   "source": [
    "Now, if my user inputs in a float instead of an integer, when I try to run this program, instead of outputting a cryptic Python error message with a traceback, it asks the user if they put in integers.\n",
    "\n",
    "Be aware that a try block must always be superseded by an except block. A try block by itself is syntactically incorrect.\n",
    "\n",
    "What if we want to get the cryptic error message? Let’s say we’re running our try-except[^10] block inside of a list loop, and some element in our list causes an error."
   ]
  },
  {
   "cell_type": "code",
   "execution_count": 54,
   "metadata": {},
   "outputs": [
    {
     "name": "stdout",
     "output_type": "stream",
     "text": [
      "2\n",
      "4\n",
      "6\n",
      "8\n",
      "Something went wrong!\n"
     ]
    }
   ],
   "source": [
    "# RUNNABLE\n",
    "def add(num1, num2):\n",
    "    result = int(num1 + num2)\n",
    "    return result\n",
    "list = [1, 2, 3, 4, \"Stinky Pete\"]\n",
    "for i in list:\n",
    "    try:\n",
    "        print(add(i, i))\n",
    "    except:\n",
    "        print(\"Something went wrong!\")"
   ]
  },
  {
   "cell_type": "code",
   "execution_count": 55,
   "metadata": {},
   "outputs": [
    {
     "name": "stdout",
     "output_type": "stream",
     "text": [
      "2\n",
      "4\n",
      "6\n",
      "8\n",
      "Something went wrong!\n",
      "invalid literal for int() with base 10: 'Stinky PeteStinky Pete'\n"
     ]
    }
   ],
   "source": [
    "# RUNNABLE\n",
    "def add(num1, num2):\n",
    "    result = int(num1 + num2)\n",
    "    return result\n",
    "list = [1, 2, 3, 4, \"Stinky Pete\"]\n",
    "for i in list:\n",
    "    try:\n",
    "        print(add(i, i))\n",
    "    except Exception as e:\n",
    "        print(\"Something went wrong!\")\n",
    "        print(e)"
   ]
  },
  {
   "cell_type": "markdown",
   "metadata": {},
   "source": [
    "If an exception is generated because something in the try block is syntactically incorrect, put that exception into the variable named e (a common standard for exceptions) and print a warning with that exception message.\n",
    "\n",
    "Everything outside of the try-except block still gets run. Consider the following code."
   ]
  },
  {
   "cell_type": "code",
   "execution_count": 57,
   "metadata": {},
   "outputs": [
    {
     "name": "stdout",
     "output_type": "stream",
     "text": [
      "2\n",
      "4\n",
      "6\n",
      "8\n",
      "Something went wrong!\n",
      "invalid literal for int() with base 10: 'Stinky PeteStinky Pete'\n",
      "All done!\n"
     ]
    }
   ],
   "source": [
    "# RUNNABLE\n",
    "def add(num1, num2):\n",
    "    result = int(num1 + num2)\n",
    "    return result\n",
    "list = [1, 2, 3, 4, \"Stinky Pete\"]\n",
    "for i in list:\n",
    "    try:\n",
    "        print(add(i, i))\n",
    "    except Exception as e:\n",
    "        print(\"Something went wrong!\")\n",
    "        print(e)\n",
    "print(\"All done!\")"
   ]
  },
  {
   "cell_type": "markdown",
   "metadata": {},
   "source": [
    "As we can see, the final line falls outside of the try-except blocks, so even though the code inside of the try block will fail syntactically, the except block will handle the exception and allow the program to continue running."
   ]
  },
  {
   "cell_type": "markdown",
   "metadata": {},
   "source": [
    "# 10. Working with Files\n",
    "\n",
    "As much as we’d like to pack everything into our Python scripts, sometimes, this just isn’t reasonable. Let’s say I wanted to analyze a dataset in Python about the responses that 16,182 people reported about how they remember the song “Jingle Bells, Batman Smells.”[^11] For one, that’s a lot of data to put into Python by hand, and for two, you don’t have to put it in all by hand. Instead, we can have Python read this file into memory so that it can manipulate it.\n",
    "\n",
    "There are three main operations we can do to a text file: read, append, and overwrite. Reading is fairly straightforward: we read the file into memory and make some decision. However, the difference between writing and appending is a little bit more nebulous. Appending to a file opens that file as a readable file, but only writes to the end of that file. An appending operation cannot modify existing data. An overwriting or writing operation opens the file as a writable file, and it, by default, replaces and rewrites the new data over the old data. Writing operations are destructive!\n",
    "\n",
    "For example, consider the demonstration data[^12]. You can upload this to your repl.it or your working directory to use it. The demo data contains a header, plus the first hundred rows of a sample dataset. This would be a huge pain to input by hand into Python. Instead, we can use file reading to read the file into memory. Consider the following code."
   ]
  },
  {
   "cell_type": "code",
   "execution_count": 58,
   "metadata": {},
   "outputs": [
    {
     "ename": "FileNotFoundError",
     "evalue": "[Errno 2] No such file or directory: 'soccer.txt'",
     "output_type": "error",
     "traceback": [
      "\u001b[1;31m---------------------------------------------------------------------------\u001b[0m",
      "\u001b[1;31mFileNotFoundError\u001b[0m                         Traceback (most recent call last)",
      "\u001b[1;32m<ipython-input-58-303fdf3b2501>\u001b[0m in \u001b[0;36m<module>\u001b[1;34m\u001b[0m\n\u001b[1;32m----> 1\u001b[1;33m \u001b[0mfile\u001b[0m \u001b[1;33m=\u001b[0m \u001b[0mopen\u001b[0m\u001b[1;33m(\u001b[0m\u001b[1;34m\"soccer.txt\"\u001b[0m\u001b[1;33m,\u001b[0m \u001b[1;34m\"r\"\u001b[0m\u001b[1;33m)\u001b[0m\u001b[1;33m\u001b[0m\u001b[1;33m\u001b[0m\u001b[0m\n\u001b[0m\u001b[0;32m      2\u001b[0m \u001b[0mprint\u001b[0m\u001b[1;33m(\u001b[0m\u001b[0mfile\u001b[0m\u001b[1;33m.\u001b[0m\u001b[0mread\u001b[0m\u001b[1;33m)\u001b[0m\u001b[1;33m\u001b[0m\u001b[1;33m\u001b[0m\u001b[0m\n",
      "\u001b[1;31mFileNotFoundError\u001b[0m: [Errno 2] No such file or directory: 'soccer.txt'"
     ]
    }
   ],
   "source": [
    "# RUNNABLE, IF YOU HAVE THE FILE\n",
    "file = open(\"soccer.txt\", \"r\")\n",
    "print(file.read)"
   ]
  },
  {
   "cell_type": "markdown",
   "metadata": {},
   "source": [
    "(Helpful hint: run `pwd` to figure out where you are. You can use this information to construct your filestring)"
   ]
  },
  {
   "cell_type": "code",
   "execution_count": 59,
   "metadata": {},
   "outputs": [
    {
     "data": {
      "text/plain": [
       "'C:\\\\Users\\\\kim3'"
      ]
     },
     "execution_count": 59,
     "metadata": {},
     "output_type": "execute_result"
    }
   ],
   "source": [
    "pwd"
   ]
  },
  {
   "cell_type": "markdown",
   "metadata": {},
   "source": [
    "Let’s break down each line of this. The first thing I’m doing is declaring a variable that will hold the open file. The non-primitive variable type is a little bit too complicated to explain here. Next, I’m calling the function `open()`, which is a base function of Python. Next, I’m specifying the path of the file[^13], along with the method: `r` for read, `a` for append, and `w` for overwrite. Finally, I’m printing the entire file.\n",
    "\n",
    "The file variable contains the entire text file in memory, which I can then manipulate. For example, I can run the readline function. The readline function is a very handy tool for reading individual lines of a plaintext document. The syntax is provided below."
   ]
  },
  {
   "cell_type": "code",
   "execution_count": null,
   "metadata": {},
   "outputs": [],
   "source": [
    "# RUNNABLE, IF YOU HAVE THE FILE\n",
    "file = open(\"soccer.txt\", \"r\")\n",
    "print(soccer.readline())"
   ]
  },
  {
   "cell_type": "markdown",
   "metadata": {},
   "source": [
    "In fact, I can call readline multiple times to read multiple lines."
   ]
  },
  {
   "cell_type": "code",
   "execution_count": null,
   "metadata": {},
   "outputs": [],
   "source": [
    "# RUNNABLE, IF YOU HAVE THE FILE\n",
    "file = open(\"soccer.txt\", \"r\")\n",
    "print(soccer.readline())\n",
    "print(soccer.readline())\n",
    "print(soccer.readline())"
   ]
  },
  {
   "cell_type": "markdown",
   "metadata": {},
   "source": [
    "The above example will read the first three lines. Likewise, I could loop through the entire file."
   ]
  },
  {
   "cell_type": "code",
   "execution_count": null,
   "metadata": {},
   "outputs": [],
   "source": [
    "# RUNNABLE, IF YOU HAVE THE FILE\n",
    "file = open(\"soccer.txt\", \"r\")\n",
    "for line in file:\n",
    "    print(line)"
   ]
  },
  {
   "cell_type": "markdown",
   "metadata": {},
   "source": [
    "When you finish with a file, you should always close it. This ensures that no other programs are trying to overwrite the same memory address at the same time."
   ]
  },
  {
   "cell_type": "code",
   "execution_count": null,
   "metadata": {},
   "outputs": [],
   "source": [
    "# RUNNABLE, IF YOU HAVE THE FILE\n",
    "file = open(\"soccer.txt\", \"r\")\n",
    "print(file.readline())\n",
    "file.close()"
   ]
  },
  {
   "cell_type": "markdown",
   "metadata": {},
   "source": [
    "Moreover, I can use another library to expand Python’s functionality. One such library is the `csv` library. It allows us to manipulate a CSV natively. Consider the following code."
   ]
  },
  {
   "cell_type": "code",
   "execution_count": null,
   "metadata": {},
   "outputs": [],
   "source": [
    "# RUNNABLE, IF YOU HAVE THE FILE\n",
    "import csv\n",
    "with open(\"soccer.txt\", \"r\", newline = '') as file:\n",
    "    reader = csv.reader(file, delimiter = ',', quotechar = '')\n",
    "    for row in reader:\n",
    "        print(', '.join(row))\n",
    "file.close()"
   ]
  },
  {
   "cell_type": "markdown",
   "metadata": {},
   "source": [
    "This example will print each line as a row in a plaintext output in your Python console. The csv module has some powerful parsing tools.\n",
    "\n",
    "Likewise, you can write. Take the example above. We can adapt it to write another line to the file."
   ]
  },
  {
   "cell_type": "code",
   "execution_count": null,
   "metadata": {},
   "outputs": [],
   "source": [
    "# RUNNABLE, IF YOU HAVE THE FILE\n",
    "import csv\n",
    "with open(\"soccer.txt\", \"a\", newline = '') as file:\n",
    "    writer = csv.writer(file, delimiter = ',', quotechar = '', quoting = csv.QUOTE_MINIMAL)\n",
    "    writer.writerow(['Sven Bender', 'Germany', 'NULL', 'NULL', 'Bor. Dortmund', 'Res', '6', '07/01/2009', '2021', '81', '186 cm', '78 kg', 'Right', '04/27/1989', '27', 'CB/CDM'])\n",
    "file.close()"
   ]
  },
  {
   "cell_type": "markdown",
   "metadata": {},
   "source": [
    "Now, if you attempt to view the CSV in a program like Microsoft Excel, Libreoffice, or Google Sheets, you should see the new row has been appended.\n",
    "\n",
    "Likewise, if you try to change the document mode from `\"r\"` to `\"w\"`, it would overwrite all of the existing data with just that one row and you’d have a pretty pitiful looking spreadsheet."
   ]
  },
  {
   "cell_type": "markdown",
   "metadata": {},
   "source": [
    "---"
   ]
  },
  {
   "cell_type": "markdown",
   "metadata": {},
   "source": [
    "[^1]: [https://processing.org/examples/integersfloats.html](https://processing.org/examples/integersfloats.html) The code shown is in the Processing programming language, a derivative of C++.\n",
    "\n",
    "[^2]: For example, in C++, when you declare a variable, you must declare its type as well: `float cashValue = 3.39;`\n",
    "\n",
    "[^3]: Some documentation writes this as a modulo operator, while others write it as a modulus operator. They are the same thing.\n",
    "\n",
    "[^4]: It is worth noting that whitespace does not matter nearly as much in some other languages, which instead use curly braces `{}` or a `begin` and `end` statement.\n",
    "\n",
    "[^5]: Observe how all of the backslashes are doubled up. Recall how a newline uses the escape sequence \\n. Likewise, \\r does a carriage return and \\t puts in a tab. Well, since \\ is a special character, you need to put in an extra \\ to ensure that the backslash itself is escaped.\n",
    "\n",
    "[^6]: Python is somewhat special in this regard. Other languages, such as C++, require you to return something.\n",
    "\n",
    "[^7]: The default behavior is to return a 0, but if your function is not syntactically correct or an exception is thrown, then your function will return 1 by default, or an exception, if specified. See Chapter 9 for exception handling.\n",
    "\n",
    "[^8]: You can search through the massive Python package library at pypi.org.\n",
    "\n",
    "[^9]: Conda is the package manager for Anaconda, another integrated development environment.\n",
    "\n",
    "[^10]: Python refers to this as a try-except block. Other languages use terminology like try-catch, but they are the same thing.\n",
    "\n",
    "[^11]: This dataset actually exists. You can find it here: [https://github.com/kim3-sudo/jinglebells/blob/master/jinglebells.csv](https://github.com/kim3-sudo/jinglebells/blob/master/jinglebells.csv)\n",
    "\n",
    "[^12]: You can find the downloadable demonstration data here: [https://github.com/kim3-sudo/python-intro/blob/main/soccer.txt](https://github.com/kim3-sudo/python-intro/blob/main/soccer.txt)\n",
    "\n",
    "[^13]: If you are running this on your local machine using software like Spyder, you probably need to specify a full, explicit file path: `C:\\\\Users\\\\<username>\\\\Downloads\\\\soccer.txt`. Depending on the Python interpreter, you may also need to specify that the file is in the current working directory: `./soccer.txt`."
   ]
  },
  {
   "cell_type": "code",
   "execution_count": null,
   "metadata": {},
   "outputs": [],
   "source": []
  }
 ],
 "metadata": {
  "kernelspec": {
   "display_name": "Python 3",
   "language": "python",
   "name": "python3"
  },
  "language_info": {
   "codemirror_mode": {
    "name": "ipython",
    "version": 3
   },
   "file_extension": ".py",
   "mimetype": "text/x-python",
   "name": "python",
   "nbconvert_exporter": "python",
   "pygments_lexer": "ipython3",
   "version": "3.8.3"
  }
 },
 "nbformat": 4,
 "nbformat_minor": 4
}
